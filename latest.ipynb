{
 "cells": [
  {
   "cell_type": "code",
   "execution_count": 1,
   "metadata": {
    "scrolled": true
   },
   "outputs": [],
   "source": [
    "# Importing Required Packages \n",
    "import pandas as pd, numpy as np\n",
    "from sklearn.linear_model import LogisticRegression\n",
    "from sklearn.feature_extraction.text import CountVectorizer, TfidfVectorizer\n",
    "\n",
    "import matplotlib.pyplot as plt\n",
    "import seaborn as sns\n",
    "import matplotlib.gridspec as gridspec \n",
    "from PIL import Image\n",
    "\n",
    "from sklearn.feature_extraction.text import TfidfTransformer\n",
    "from sklearn.feature_extraction.text import CountVectorizer\n",
    "from sklearn.feature_extraction.text import TfidfVectorizer \n",
    "\n",
    "from nltk.corpus import stopwords\n",
    "import nltk\n",
    "import re\n",
    "from nltk.stem.snowball import SnowballStemmer\n",
    "from nltk.stem import PorterStemmer\n",
    "from nltk.stem import LancasterStemmer"
   ]
  },
  {
   "cell_type": "code",
   "execution_count": 2,
   "metadata": {},
   "outputs": [],
   "source": [
    "# Reading the required data into jupyter notebook \n",
    "train = pd.read_csv('C:/Users/Anish/Downloads/Data/train.csv')\n",
    "test = pd.read_csv('C:/Users/Anish/Downloads/Data/test.csv')\n",
    "\n"
   ]
  },
  {
   "cell_type": "code",
   "execution_count": 3,
   "metadata": {},
   "outputs": [],
   "source": [
    "#y = train.target"
   ]
  },
  {
   "cell_type": "code",
   "execution_count": 4,
   "metadata": {},
   "outputs": [],
   "source": [
    "#lINK TO UPLOAD FILES ON GOOGLE COLLAB \n",
    "#THIS IS A ONLINE PLATFORM WHERE WE COULD EXECUTE PYTHON CODE\n",
    "\n",
    "#from google.colab import files\n",
    "#uploaded = files.upload()"
   ]
  },
  {
   "cell_type": "code",
   "execution_count": 5,
   "metadata": {},
   "outputs": [
    {
     "data": {
      "text/html": [
       "<div>\n",
       "<style scoped>\n",
       "    .dataframe tbody tr th:only-of-type {\n",
       "        vertical-align: middle;\n",
       "    }\n",
       "\n",
       "    .dataframe tbody tr th {\n",
       "        vertical-align: top;\n",
       "    }\n",
       "\n",
       "    .dataframe thead th {\n",
       "        text-align: right;\n",
       "    }\n",
       "</style>\n",
       "<table border=\"1\" class=\"dataframe\">\n",
       "  <thead>\n",
       "    <tr style=\"text-align: right;\">\n",
       "      <th></th>\n",
       "      <th>id</th>\n",
       "      <th>comment_text</th>\n",
       "      <th>toxic</th>\n",
       "      <th>severe_toxic</th>\n",
       "      <th>obscene</th>\n",
       "      <th>threat</th>\n",
       "      <th>insult</th>\n",
       "      <th>identity_hate</th>\n",
       "    </tr>\n",
       "  </thead>\n",
       "  <tbody>\n",
       "    <tr>\n",
       "      <th>0</th>\n",
       "      <td>0000997932d777bf</td>\n",
       "      <td>Explanation\\nWhy the edits made under my usern...</td>\n",
       "      <td>0</td>\n",
       "      <td>0</td>\n",
       "      <td>0</td>\n",
       "      <td>0</td>\n",
       "      <td>0</td>\n",
       "      <td>0</td>\n",
       "    </tr>\n",
       "    <tr>\n",
       "      <th>1</th>\n",
       "      <td>000103f0d9cfb60f</td>\n",
       "      <td>D'aww! He matches this background colour I'm s...</td>\n",
       "      <td>0</td>\n",
       "      <td>0</td>\n",
       "      <td>0</td>\n",
       "      <td>0</td>\n",
       "      <td>0</td>\n",
       "      <td>0</td>\n",
       "    </tr>\n",
       "    <tr>\n",
       "      <th>2</th>\n",
       "      <td>000113f07ec002fd</td>\n",
       "      <td>Hey man, I'm really not trying to edit war. It...</td>\n",
       "      <td>0</td>\n",
       "      <td>0</td>\n",
       "      <td>0</td>\n",
       "      <td>0</td>\n",
       "      <td>0</td>\n",
       "      <td>0</td>\n",
       "    </tr>\n",
       "    <tr>\n",
       "      <th>3</th>\n",
       "      <td>0001b41b1c6bb37e</td>\n",
       "      <td>\"\\nMore\\nI can't make any real suggestions on ...</td>\n",
       "      <td>0</td>\n",
       "      <td>0</td>\n",
       "      <td>0</td>\n",
       "      <td>0</td>\n",
       "      <td>0</td>\n",
       "      <td>0</td>\n",
       "    </tr>\n",
       "    <tr>\n",
       "      <th>4</th>\n",
       "      <td>0001d958c54c6e35</td>\n",
       "      <td>You, sir, are my hero. Any chance you remember...</td>\n",
       "      <td>0</td>\n",
       "      <td>0</td>\n",
       "      <td>0</td>\n",
       "      <td>0</td>\n",
       "      <td>0</td>\n",
       "      <td>0</td>\n",
       "    </tr>\n",
       "  </tbody>\n",
       "</table>\n",
       "</div>"
      ],
      "text/plain": [
       "                 id                                       comment_text  toxic  \\\n",
       "0  0000997932d777bf  Explanation\\nWhy the edits made under my usern...      0   \n",
       "1  000103f0d9cfb60f  D'aww! He matches this background colour I'm s...      0   \n",
       "2  000113f07ec002fd  Hey man, I'm really not trying to edit war. It...      0   \n",
       "3  0001b41b1c6bb37e  \"\\nMore\\nI can't make any real suggestions on ...      0   \n",
       "4  0001d958c54c6e35  You, sir, are my hero. Any chance you remember...      0   \n",
       "\n",
       "   severe_toxic  obscene  threat  insult  identity_hate  \n",
       "0             0        0       0       0              0  \n",
       "1             0        0       0       0              0  \n",
       "2             0        0       0       0              0  \n",
       "3             0        0       0       0              0  \n",
       "4             0        0       0       0              0  "
      ]
     },
     "execution_count": 5,
     "metadata": {},
     "output_type": "execute_result"
    }
   ],
   "source": [
    "train.head()"
   ]
  },
  {
   "cell_type": "code",
   "execution_count": 6,
   "metadata": {},
   "outputs": [
    {
     "data": {
      "text/html": [
       "<div>\n",
       "<style scoped>\n",
       "    .dataframe tbody tr th:only-of-type {\n",
       "        vertical-align: middle;\n",
       "    }\n",
       "\n",
       "    .dataframe tbody tr th {\n",
       "        vertical-align: top;\n",
       "    }\n",
       "\n",
       "    .dataframe thead th {\n",
       "        text-align: right;\n",
       "    }\n",
       "</style>\n",
       "<table border=\"1\" class=\"dataframe\">\n",
       "  <thead>\n",
       "    <tr style=\"text-align: right;\">\n",
       "      <th></th>\n",
       "      <th>id</th>\n",
       "      <th>comment_text</th>\n",
       "    </tr>\n",
       "  </thead>\n",
       "  <tbody>\n",
       "    <tr>\n",
       "      <th>0</th>\n",
       "      <td>00001cee341fdb12</td>\n",
       "      <td>Yo bitch Ja Rule is more succesful then you'll...</td>\n",
       "    </tr>\n",
       "    <tr>\n",
       "      <th>1</th>\n",
       "      <td>0000247867823ef7</td>\n",
       "      <td>== From RfC == \\n\\n The title is fine as it is...</td>\n",
       "    </tr>\n",
       "    <tr>\n",
       "      <th>2</th>\n",
       "      <td>00013b17ad220c46</td>\n",
       "      <td>\" \\n\\n == Sources == \\n\\n * Zawe Ashton on Lap...</td>\n",
       "    </tr>\n",
       "    <tr>\n",
       "      <th>3</th>\n",
       "      <td>00017563c3f7919a</td>\n",
       "      <td>:If you have a look back at the source, the in...</td>\n",
       "    </tr>\n",
       "    <tr>\n",
       "      <th>4</th>\n",
       "      <td>00017695ad8997eb</td>\n",
       "      <td>I don't anonymously edit articles at all.</td>\n",
       "    </tr>\n",
       "  </tbody>\n",
       "</table>\n",
       "</div>"
      ],
      "text/plain": [
       "                 id                                       comment_text\n",
       "0  00001cee341fdb12  Yo bitch Ja Rule is more succesful then you'll...\n",
       "1  0000247867823ef7  == From RfC == \\n\\n The title is fine as it is...\n",
       "2  00013b17ad220c46  \" \\n\\n == Sources == \\n\\n * Zawe Ashton on Lap...\n",
       "3  00017563c3f7919a  :If you have a look back at the source, the in...\n",
       "4  00017695ad8997eb          I don't anonymously edit articles at all."
      ]
     },
     "execution_count": 6,
     "metadata": {},
     "output_type": "execute_result"
    }
   ],
   "source": [
    "test.head()"
   ]
  },
  {
   "cell_type": "code",
   "execution_count": 7,
   "metadata": {},
   "outputs": [
    {
     "data": {
      "text/plain": [
       "\"Bye! \\n\\nDon't look, come or think of comming back! Tosser.\""
      ]
     },
     "execution_count": 7,
     "metadata": {},
     "output_type": "execute_result"
    }
   ],
   "source": [
    "# READING A COMMENT\n",
    "train['comment_text'][16]"
   ]
  },
  {
   "cell_type": "code",
   "execution_count": 8,
   "metadata": {},
   "outputs": [],
   "source": [
    "#lens = train.comment_text.str.len()\n",
    "#lens.mean(), lens.std(), lens.max()"
   ]
  },
  {
   "cell_type": "code",
   "execution_count": 9,
   "metadata": {},
   "outputs": [
    {
     "data": {
      "text/html": [
       "<div>\n",
       "<style scoped>\n",
       "    .dataframe tbody tr th:only-of-type {\n",
       "        vertical-align: middle;\n",
       "    }\n",
       "\n",
       "    .dataframe tbody tr th {\n",
       "        vertical-align: top;\n",
       "    }\n",
       "\n",
       "    .dataframe thead th {\n",
       "        text-align: right;\n",
       "    }\n",
       "</style>\n",
       "<table border=\"1\" class=\"dataframe\">\n",
       "  <thead>\n",
       "    <tr style=\"text-align: right;\">\n",
       "      <th></th>\n",
       "      <th>toxic</th>\n",
       "      <th>severe_toxic</th>\n",
       "      <th>obscene</th>\n",
       "      <th>threat</th>\n",
       "      <th>insult</th>\n",
       "      <th>identity_hate</th>\n",
       "    </tr>\n",
       "  </thead>\n",
       "  <tbody>\n",
       "    <tr>\n",
       "      <th>count</th>\n",
       "      <td>159571.000000</td>\n",
       "      <td>159571.000000</td>\n",
       "      <td>159571.000000</td>\n",
       "      <td>159571.000000</td>\n",
       "      <td>159571.000000</td>\n",
       "      <td>159571.000000</td>\n",
       "    </tr>\n",
       "    <tr>\n",
       "      <th>mean</th>\n",
       "      <td>0.095844</td>\n",
       "      <td>0.009996</td>\n",
       "      <td>0.052948</td>\n",
       "      <td>0.002996</td>\n",
       "      <td>0.049364</td>\n",
       "      <td>0.008805</td>\n",
       "    </tr>\n",
       "    <tr>\n",
       "      <th>std</th>\n",
       "      <td>0.294379</td>\n",
       "      <td>0.099477</td>\n",
       "      <td>0.223931</td>\n",
       "      <td>0.054650</td>\n",
       "      <td>0.216627</td>\n",
       "      <td>0.093420</td>\n",
       "    </tr>\n",
       "    <tr>\n",
       "      <th>min</th>\n",
       "      <td>0.000000</td>\n",
       "      <td>0.000000</td>\n",
       "      <td>0.000000</td>\n",
       "      <td>0.000000</td>\n",
       "      <td>0.000000</td>\n",
       "      <td>0.000000</td>\n",
       "    </tr>\n",
       "    <tr>\n",
       "      <th>25%</th>\n",
       "      <td>0.000000</td>\n",
       "      <td>0.000000</td>\n",
       "      <td>0.000000</td>\n",
       "      <td>0.000000</td>\n",
       "      <td>0.000000</td>\n",
       "      <td>0.000000</td>\n",
       "    </tr>\n",
       "    <tr>\n",
       "      <th>50%</th>\n",
       "      <td>0.000000</td>\n",
       "      <td>0.000000</td>\n",
       "      <td>0.000000</td>\n",
       "      <td>0.000000</td>\n",
       "      <td>0.000000</td>\n",
       "      <td>0.000000</td>\n",
       "    </tr>\n",
       "    <tr>\n",
       "      <th>75%</th>\n",
       "      <td>0.000000</td>\n",
       "      <td>0.000000</td>\n",
       "      <td>0.000000</td>\n",
       "      <td>0.000000</td>\n",
       "      <td>0.000000</td>\n",
       "      <td>0.000000</td>\n",
       "    </tr>\n",
       "    <tr>\n",
       "      <th>max</th>\n",
       "      <td>1.000000</td>\n",
       "      <td>1.000000</td>\n",
       "      <td>1.000000</td>\n",
       "      <td>1.000000</td>\n",
       "      <td>1.000000</td>\n",
       "      <td>1.000000</td>\n",
       "    </tr>\n",
       "  </tbody>\n",
       "</table>\n",
       "</div>"
      ],
      "text/plain": [
       "               toxic   severe_toxic        obscene         threat  \\\n",
       "count  159571.000000  159571.000000  159571.000000  159571.000000   \n",
       "mean        0.095844       0.009996       0.052948       0.002996   \n",
       "std         0.294379       0.099477       0.223931       0.054650   \n",
       "min         0.000000       0.000000       0.000000       0.000000   \n",
       "25%         0.000000       0.000000       0.000000       0.000000   \n",
       "50%         0.000000       0.000000       0.000000       0.000000   \n",
       "75%         0.000000       0.000000       0.000000       0.000000   \n",
       "max         1.000000       1.000000       1.000000       1.000000   \n",
       "\n",
       "              insult  identity_hate  \n",
       "count  159571.000000  159571.000000  \n",
       "mean        0.049364       0.008805  \n",
       "std         0.216627       0.093420  \n",
       "min         0.000000       0.000000  \n",
       "25%         0.000000       0.000000  \n",
       "50%         0.000000       0.000000  \n",
       "75%         0.000000       0.000000  \n",
       "max         1.000000       1.000000  "
      ]
     },
     "execution_count": 9,
     "metadata": {},
     "output_type": "execute_result"
    }
   ],
   "source": [
    "# check missing values in numeric columns\n",
    "train.describe()"
   ]
  },
  {
   "cell_type": "code",
   "execution_count": 10,
   "metadata": {},
   "outputs": [],
   "source": [
    "cols_target = ['obscene','insult','toxic','severe_toxic','identity_hate','threat']"
   ]
  },
  {
   "cell_type": "code",
   "execution_count": 11,
   "metadata": {},
   "outputs": [
    {
     "name": "stdout",
     "output_type": "stream",
     "text": [
      "89.83211235124176\n",
      "143346\n"
     ]
    },
    {
     "data": {
      "text/plain": [
       "16225"
      ]
     },
     "execution_count": 11,
     "metadata": {},
     "output_type": "execute_result"
    }
   ],
   "source": [
    "#comments which are not labbeled in any of the six categories\n",
    "unlabel = train[(train['toxic']!=1) & (train['severe_toxic']!=1) & (train['obscene']!=1) & (train['threat']!=1)\n",
    "                 &(train['insult']!=1) & (train['identity_hate']!=1)]\n",
    "\n",
    "per = len(unlabel) / len(train) * 100 \n",
    "print(per)\n",
    "\n",
    "z= len(unlabel)\n",
    "print(z)\n",
    "label = train.comment_text.count() - z\n",
    "label"
   ]
  },
  {
   "cell_type": "code",
   "execution_count": 12,
   "metadata": {},
   "outputs": [
    {
     "data": {
      "text/plain": [
       "89.83211235124176"
      ]
     },
     "execution_count": 12,
     "metadata": {},
     "output_type": "execute_result"
    }
   ],
   "source": [
    "#CALCULATING PERCENTAGE OF CLEAN DATA\n",
    "percentage_unlabel = len(unlabel) / len(train) * 100\n",
    "percentage_unlabel"
   ]
  },
  {
   "cell_type": "code",
   "execution_count": 13,
   "metadata": {},
   "outputs": [
    {
     "data": {
      "text/html": [
       "<div>\n",
       "<style scoped>\n",
       "    .dataframe tbody tr th:only-of-type {\n",
       "        vertical-align: middle;\n",
       "    }\n",
       "\n",
       "    .dataframe tbody tr th {\n",
       "        vertical-align: top;\n",
       "    }\n",
       "\n",
       "    .dataframe thead th {\n",
       "        text-align: right;\n",
       "    }\n",
       "</style>\n",
       "<table border=\"1\" class=\"dataframe\">\n",
       "  <thead>\n",
       "    <tr style=\"text-align: right;\">\n",
       "      <th></th>\n",
       "      <th>id</th>\n",
       "      <th>comment_text</th>\n",
       "      <th>toxic</th>\n",
       "      <th>severe_toxic</th>\n",
       "      <th>obscene</th>\n",
       "      <th>threat</th>\n",
       "      <th>insult</th>\n",
       "      <th>identity_hate</th>\n",
       "    </tr>\n",
       "  </thead>\n",
       "  <tbody>\n",
       "  </tbody>\n",
       "</table>\n",
       "</div>"
      ],
      "text/plain": [
       "Empty DataFrame\n",
       "Columns: [id, comment_text, toxic, severe_toxic, obscene, threat, insult, identity_hate]\n",
       "Index: []"
      ]
     },
     "execution_count": 13,
     "metadata": {},
     "output_type": "execute_result"
    }
   ],
   "source": [
    "#check for missing values \n",
    "a = train[train['toxic'].isnull()]\n",
    "a\n",
    "b = train[train['severe_toxic'].isnull()]\n",
    "b\n",
    "c = train[train['obscene'].isnull()]\n",
    "c\n",
    "d = train[train['threat'].isnull()]\n",
    "d\n",
    "e = train[train['insult'].isnull()]\n",
    "e\n",
    "f = train[train['identity_hate'].isnull()]\n",
    "f"
   ]
  },
  {
   "cell_type": "code",
   "execution_count": 14,
   "metadata": {},
   "outputs": [
    {
     "data": {
      "text/plain": [
       "159571"
      ]
     },
     "execution_count": 14,
     "metadata": {},
     "output_type": "execute_result"
    }
   ],
   "source": [
    "#Total number of rows in TRAIN data\n",
    "len(train)"
   ]
  },
  {
   "cell_type": "code",
   "execution_count": 15,
   "metadata": {},
   "outputs": [
    {
     "data": {
      "text/plain": [
       "153164"
      ]
     },
     "execution_count": 15,
     "metadata": {},
     "output_type": "execute_result"
    }
   ],
   "source": [
    "#Total number of rows in TEST data\n",
    "len(test)"
   ]
  },
  {
   "cell_type": "code",
   "execution_count": 16,
   "metadata": {},
   "outputs": [
    {
     "data": {
      "text/html": [
       "<div>\n",
       "<style scoped>\n",
       "    .dataframe tbody tr th:only-of-type {\n",
       "        vertical-align: middle;\n",
       "    }\n",
       "\n",
       "    .dataframe tbody tr th {\n",
       "        vertical-align: top;\n",
       "    }\n",
       "\n",
       "    .dataframe thead th {\n",
       "        text-align: right;\n",
       "    }\n",
       "</style>\n",
       "<table border=\"1\" class=\"dataframe\">\n",
       "  <thead>\n",
       "    <tr style=\"text-align: right;\">\n",
       "      <th></th>\n",
       "      <th>id</th>\n",
       "      <th>comment_text</th>\n",
       "      <th>toxic</th>\n",
       "      <th>severe_toxic</th>\n",
       "      <th>obscene</th>\n",
       "      <th>threat</th>\n",
       "      <th>insult</th>\n",
       "      <th>identity_hate</th>\n",
       "    </tr>\n",
       "  </thead>\n",
       "  <tbody>\n",
       "  </tbody>\n",
       "</table>\n",
       "</div>"
      ],
      "text/plain": [
       "Empty DataFrame\n",
       "Columns: [id, comment_text, toxic, severe_toxic, obscene, threat, insult, identity_hate]\n",
       "Index: []"
      ]
     },
     "execution_count": 16,
     "metadata": {},
     "output_type": "execute_result"
    }
   ],
   "source": []
  },
  {
   "cell_type": "code",
   "execution_count": 17,
   "metadata": {},
   "outputs": [
    {
     "name": "stdout",
     "output_type": "stream",
     "text": [
      "Check for missing values in Train dataset\n",
      "id               0\n",
      "comment_text     0\n",
      "toxic            0\n",
      "severe_toxic     0\n",
      "obscene          0\n",
      "threat           0\n",
      "insult           0\n",
      "identity_hate    0\n",
      "dtype: int64\n",
      "Check for missing values in Test dataset\n",
      "id              0\n",
      "comment_text    0\n",
      "dtype: int64\n",
      "None\n",
      "None\n"
     ]
    }
   ],
   "source": [
    "#check null value in TRAIN comments column\n",
    "print(\"Check for missing values in Train dataset\")\n",
    "null_check=train.isnull().sum()\n",
    "print(null_check)\n",
    "\n",
    "#check null value in TEST comments column\n",
    "print(\"Check for missing values in Test dataset\")\n",
    "null_check=test.isnull().sum()\n",
    "print(null_check)\n",
    "\n",
    "#Fill NA with blank\n",
    "COMMENT = 'comment_text'\n",
    "a=train[COMMENT].fillna(\"unknown\", inplace=True)\n",
    "print(a)\n",
    "b=test[COMMENT].fillna(\"unknown\", inplace=True)\n",
    "print(b)"
   ]
  },
  {
   "cell_type": "code",
   "execution_count": 18,
   "metadata": {},
   "outputs": [
    {
     "data": {
      "text/plain": [
       "<matplotlib.axes._subplots.AxesSubplot at 0x15693b1a9b0>"
      ]
     },
     "execution_count": 18,
     "metadata": {},
     "output_type": "execute_result"
    },
    {
     "data": {
      "image/png": "[encoded data removed]",
      "text/plain": [
       "<Figure size 1152x720 with 6 Axes>"
      ]
     },
     "metadata": {
      "needs_background": "light"
     },
     "output_type": "display_data"
    }
   ],
   "source": [
    "# EXPLORING PREDEFINED LABELS\n",
    "fig,ax = plt.subplots(2,3,figsize=(16,10))\n",
    "ax1,ax2,ax3,ax4,ax5,ax6 = ax.flatten()\n",
    "sns.countplot(train['toxic'],palette= 'magma',ax=ax1)\n",
    "sns.countplot(train['severe_toxic'], palette= 'viridis',ax=ax2)\n",
    "sns.countplot(train['obscene'], palette= 'Set1',ax=ax3)\n",
    "sns.countplot(train['threat'], palette= 'viridis',ax = ax4)\n",
    "sns.countplot(train['insult'], palette = 'magma',ax=ax5)\n",
    "sns.countplot(train['identity_hate'], palette = 'Set1', ax = ax6)"
   ]
  },
  {
   "cell_type": "code",
   "execution_count": 19,
   "metadata": {
    "scrolled": true
   },
   "outputs": [
    {
     "data": {
      "image/png": "[encoded data removed]",
      "text/plain": [
       "<Figure size 576x288 with 1 Axes>"
      ]
     },
     "metadata": {
      "needs_background": "light"
     },
     "output_type": "display_data"
    }
   ],
   "source": [
    "#EXPLORING AND CALCULATING COMMENTS PER CLASS\n",
    "x=train.iloc[:,2:].sum()\n",
    "#plot\n",
    "plt.figure(figsize=(8,4))\n",
    "ax= sns.barplot(x.index, x.values, alpha=0.8)\n",
    "plt.title(\"Comments per class\")\n",
    "plt.ylabel('# of Occurrences', fontsize=12)\n",
    "plt.xlabel('Type ', fontsize=12)\n",
    "#adding the text labels\n",
    "rects = ax.patches\n",
    "labels = x.values\n",
    "for rect, label in zip(rects, labels):\n",
    "    height = rect.get_height()\n",
    "    ax.text(rect.get_x() + rect.get_width()/2, height + 5, label, ha='center', va='bottom')\n",
    "\n",
    "plt.show()"
   ]
  },
  {
   "cell_type": "code",
   "execution_count": 20,
   "metadata": {},
   "outputs": [
    {
     "name": "stdout",
     "output_type": "stream",
     "text": [
      "0    143346\n",
      "1      6360\n",
      "3      4209\n",
      "2      3480\n",
      "4      1760\n",
      "5       385\n",
      "6        31\n",
      "dtype: int64\n"
     ]
    },
    {
     "data": {
      "image/png": "[encoded data removed]",
      "text/plain": [
       "<Figure size 576x288 with 1 Axes>"
      ]
     },
     "metadata": {
      "needs_background": "light"
     },
     "output_type": "display_data"
    }
   ],
   "source": [
    "#CLEAN AND UNCLEAN DATA\n",
    "train_copy = train.copy()\n",
    "y = train[cols_target].sum(axis=1)\n",
    "x=y.value_counts()\n",
    "print(x)\n",
    "#plot\n",
    "plt.figure(figsize=(8,4))\n",
    "ax= sns.barplot(x.index, x.values, alpha=0.8)\n",
    "plt.title(\"Label counts v/s Occurance in train data\")\n",
    "plt.ylabel('# of Occurrences', fontsize=12)\n",
    "plt.xlabel('Type ', fontsize=12)\n",
    "#adding the text labels\n",
    "rects = ax.patches\n",
    "labels = cols_target\n",
    "for rect, label in zip(rects, labels):\n",
    "    height = rect.get_height()\n",
    "    ax.text(rect.get_x() + rect.get_width()/2, height + 5, label, ha='center', va='bottom')\n",
    "\n",
    "plt.show()"
   ]
  },
  {
   "cell_type": "code",
   "execution_count": 21,
   "metadata": {},
   "outputs": [
    {
     "name": "stdout",
     "output_type": "stream",
     "text": [
      "<class 'pandas.core.frame.DataFrame'>\n",
      "RangeIndex: 159571 entries, 0 to 159570\n",
      "Data columns (total 8 columns):\n",
      "id               159571 non-null object\n",
      "comment_text     159571 non-null object\n",
      "toxic            159571 non-null int64\n",
      "severe_toxic     159571 non-null int64\n",
      "obscene          159571 non-null int64\n",
      "threat           159571 non-null int64\n",
      "insult           159571 non-null int64\n",
      "identity_hate    159571 non-null int64\n",
      "dtypes: int64(6), object(2)\n",
      "memory usage: 9.7+ MB\n"
     ]
    }
   ],
   "source": [
    "train.info()"
   ]
  },
  {
   "cell_type": "code",
   "execution_count": 22,
   "metadata": {},
   "outputs": [
    {
     "data": {
      "text/plain": [
       "<matplotlib.axes._subplots.AxesSubplot at 0x156968d1320>"
      ]
     },
     "execution_count": 22,
     "metadata": {},
     "output_type": "execute_result"
    },
    {
     "data": {
      "image/png": "[encoded data removed]",
      "text/plain": [
       "<Figure size 432x432 with 2 Axes>"
      ]
     },
     "metadata": {
      "needs_background": "light"
     },
     "output_type": "display_data"
    }
   ],
   "source": [
    "# CHECKING CORELATION BETWEEEN LABELS\n",
    "colormap = plt.cm.viridis\n",
    "plt.figure(figsize=(6,6))\n",
    "plt.title('Pearson Correlation ', y=1, size=15)\n",
    "sns.heatmap(train[['toxic','severe_toxic','obscene','threat','insult','identity_hate']].astype(float).corr(),linewidths=0.1,\n",
    "            vmax=1.0, square=True, cmap=colormap, linecolor='white',\n",
    "            annot=True)"
   ]
  },
  {
   "cell_type": "code",
   "execution_count": 23,
   "metadata": {},
   "outputs": [
    {
     "data": {
      "text/plain": [
       "0          264\n",
       "1          112\n",
       "2          233\n",
       "3          622\n",
       "4           67\n",
       "5           65\n",
       "6           44\n",
       "7          115\n",
       "8          472\n",
       "9           70\n",
       "10        2875\n",
       "11          56\n",
       "12         319\n",
       "13         819\n",
       "14         219\n",
       "15         610\n",
       "16          57\n",
       "17          48\n",
       "18         118\n",
       "19         440\n",
       "20         266\n",
       "21          58\n",
       "22         543\n",
       "23          97\n",
       "24        1409\n",
       "25         172\n",
       "26         288\n",
       "27         343\n",
       "28         119\n",
       "29          78\n",
       "          ... \n",
       "159541     346\n",
       "159542     164\n",
       "159543      80\n",
       "159544      19\n",
       "159545     105\n",
       "159546     534\n",
       "159547      30\n",
       "159548      27\n",
       "159549      25\n",
       "159550     173\n",
       "159551     196\n",
       "159552      92\n",
       "159553     888\n",
       "159554     182\n",
       "159555     119\n",
       "159556      57\n",
       "159557     429\n",
       "159558     134\n",
       "159559     357\n",
       "159560    1889\n",
       "159561    1147\n",
       "159562    1015\n",
       "159563     394\n",
       "159564     369\n",
       "159565     653\n",
       "159566     295\n",
       "159567      99\n",
       "159568      81\n",
       "159569     116\n",
       "159570     189\n",
       "Name: total_length, Length: 159571, dtype: int64"
      ]
     },
     "execution_count": 23,
     "metadata": {},
     "output_type": "execute_result"
    }
   ],
   "source": [
    "# CALCULATING TOTAL LENGTH OF INDIVIDUAL COMMENTS\n",
    "train['total_length'] = train['comment_text'].apply(len)\n",
    "train['total_length']"
   ]
  },
  {
   "cell_type": "code",
   "execution_count": 24,
   "metadata": {},
   "outputs": [
    {
     "data": {
      "text/plain": [
       "count    159571.000000\n",
       "mean        394.073221\n",
       "std         590.720282\n",
       "min           6.000000\n",
       "25%          96.000000\n",
       "50%         205.000000\n",
       "75%         435.000000\n",
       "max        5000.000000\n",
       "Name: comment_text, dtype: float64"
      ]
     },
     "execution_count": 24,
     "metadata": {},
     "output_type": "execute_result"
    }
   ],
   "source": [
    "# EXPLORING LENGTH OF EACH COMMENT\n",
    "comment_length = train['comment_text'].str.len()\n",
    "comment_length.describe()\n"
   ]
  },
  {
   "cell_type": "code",
   "execution_count": 25,
   "metadata": {},
   "outputs": [
    {
     "data": {
      "text/plain": [
       "<matplotlib.axes._subplots.AxesSubplot at 0x156a3c95898>"
      ]
     },
     "execution_count": 25,
     "metadata": {},
     "output_type": "execute_result"
    },
    {
     "data": {
      "image/png": "[encoded data removed]",
      "text/plain": [
       "<Figure size 432x288 with 1 Axes>"
      ]
     },
     "metadata": {
      "needs_background": "light"
     },
     "output_type": "display_data"
    }
   ],
   "source": [
    "comment_length.hist()\n",
    "#Comments have no null values.\n",
    "#Mininum length of a comment is only 0 chars while maximum length can be 5000 characters.\n",
    "#Mean (260 chars) and median (133 chars) are not close indicating the skewness - as a result histogram is left sided"
   ]
  },
  {
   "cell_type": "code",
   "execution_count": 26,
   "metadata": {},
   "outputs": [
    {
     "data": {
      "text/plain": [
       "0         17\n",
       "1          8\n",
       "2          4\n",
       "3         11\n",
       "4          2\n",
       "5          1\n",
       "6         37\n",
       "7          4\n",
       "8          7\n",
       "9          2\n",
       "10        53\n",
       "11         0\n",
       "12        43\n",
       "13         6\n",
       "14         8\n",
       "15        28\n",
       "16         3\n",
       "17        13\n",
       "18         5\n",
       "19         5\n",
       "20        15\n",
       "21         4\n",
       "22        20\n",
       "23         7\n",
       "24        47\n",
       "25         6\n",
       "26         5\n",
       "27        12\n",
       "28         6\n",
       "29         5\n",
       "          ..\n",
       "159541     7\n",
       "159542     0\n",
       "159543     0\n",
       "159544     1\n",
       "159545     8\n",
       "159546    20\n",
       "159547     1\n",
       "159548     2\n",
       "159549     4\n",
       "159550     2\n",
       "159551     7\n",
       "159552     5\n",
       "159553    22\n",
       "159554     0\n",
       "159555     7\n",
       "159556     4\n",
       "159557     8\n",
       "159558     4\n",
       "159559     8\n",
       "159560    52\n",
       "159561    19\n",
       "159562    18\n",
       "159563    20\n",
       "159564    10\n",
       "159565     5\n",
       "159566     2\n",
       "159567     2\n",
       "159568     4\n",
       "159569     2\n",
       "159570     4\n",
       "Name: capitals, Length: 159571, dtype: int64"
      ]
     },
     "execution_count": 26,
     "metadata": {},
     "output_type": "execute_result"
    }
   ],
   "source": [
    "# exploring capital letter in the data\n",
    "train['capitals'] = train['comment_text'].apply(lambda comment:sum(1 for c in comment if c.isupper()))\n",
    "train['capitals']"
   ]
  },
  {
   "cell_type": "code",
   "execution_count": 27,
   "metadata": {},
   "outputs": [
    {
     "data": {
      "text/plain": [
       "0          0\n",
       "1          1\n",
       "2          0\n",
       "3          0\n",
       "4          0\n",
       "5          0\n",
       "6          0\n",
       "7          0\n",
       "8          0\n",
       "9          0\n",
       "10         0\n",
       "11         0\n",
       "12         0\n",
       "13         0\n",
       "14         0\n",
       "15         0\n",
       "16         2\n",
       "17         0\n",
       "18         0\n",
       "19         0\n",
       "20         0\n",
       "21         0\n",
       "22         2\n",
       "23         0\n",
       "24         0\n",
       "25         0\n",
       "26         0\n",
       "27         0\n",
       "28         0\n",
       "29         1\n",
       "          ..\n",
       "159541     0\n",
       "159542     0\n",
       "159543     0\n",
       "159544     0\n",
       "159545     0\n",
       "159546    17\n",
       "159547     0\n",
       "159548     0\n",
       "159549     0\n",
       "159550     0\n",
       "159551     0\n",
       "159552     0\n",
       "159553     0\n",
       "159554     0\n",
       "159555     0\n",
       "159556     0\n",
       "159557     0\n",
       "159558     0\n",
       "159559     0\n",
       "159560     0\n",
       "159561     0\n",
       "159562     0\n",
       "159563     0\n",
       "159564     0\n",
       "159565     0\n",
       "159566     0\n",
       "159567     0\n",
       "159568     0\n",
       "159569     0\n",
       "159570     0\n",
       "Name: exclamation, Length: 159571, dtype: int64"
      ]
     },
     "execution_count": 27,
     "metadata": {},
     "output_type": "execute_result"
    }
   ],
   "source": [
    "# Calculating number of exclamation used in each comments\n",
    "train['exclamation'] = train['comment_text'].apply(lambda comment: comment.count('!'))\n",
    "train['exclamation']"
   ]
  },
  {
   "cell_type": "code",
   "execution_count": 28,
   "metadata": {},
   "outputs": [
    {
     "data": {
      "text/plain": [
       "<matplotlib.axes._subplots.AxesSubplot at 0x1569cc4a2e8>"
      ]
     },
     "execution_count": 28,
     "metadata": {},
     "output_type": "execute_result"
    },
    {
     "data": {
      "image/png": "[encoded data removed]",
      "text/plain": [
       "<Figure size 432x288 with 1 Axes>"
      ]
     },
     "metadata": {
      "needs_background": "light"
     },
     "output_type": "display_data"
    }
   ],
   "source": [
    "train['exclamation'].hist()"
   ]
  },
  {
   "cell_type": "code",
   "execution_count": 29,
   "metadata": {},
   "outputs": [
    {
     "data": {
      "text/plain": [
       "0         1\n",
       "1         0\n",
       "2         0\n",
       "3         0\n",
       "4         1\n",
       "5         0\n",
       "6         0\n",
       "7         0\n",
       "8         1\n",
       "9         0\n",
       "10        0\n",
       "11        1\n",
       "12        1\n",
       "13        0\n",
       "14        0\n",
       "15        2\n",
       "16        0\n",
       "17        0\n",
       "18        1\n",
       "19        1\n",
       "20        0\n",
       "21        0\n",
       "22        0\n",
       "23        0\n",
       "24        4\n",
       "25        0\n",
       "26        0\n",
       "27        0\n",
       "28        1\n",
       "29        0\n",
       "         ..\n",
       "159541    0\n",
       "159542    1\n",
       "159543    0\n",
       "159544    0\n",
       "159545    2\n",
       "159546    0\n",
       "159547    0\n",
       "159548    0\n",
       "159549    0\n",
       "159550    0\n",
       "159551    0\n",
       "159552    0\n",
       "159553    0\n",
       "159554    0\n",
       "159555    1\n",
       "159556    0\n",
       "159557    0\n",
       "159558    0\n",
       "159559    0\n",
       "159560    0\n",
       "159561    0\n",
       "159562    0\n",
       "159563    0\n",
       "159564    0\n",
       "159565    0\n",
       "159566    2\n",
       "159567    0\n",
       "159568    0\n",
       "159569    0\n",
       "159570    0\n",
       "Name: Question, Length: 159571, dtype: int64"
      ]
     },
     "execution_count": 29,
     "metadata": {},
     "output_type": "execute_result"
    }
   ],
   "source": [
    "# counting number of question marks used\n",
    "train['Question'] = train['comment_text'].apply(lambda comment : comment.count('?'))\n",
    "train['Question']"
   ]
  },
  {
   "cell_type": "code",
   "execution_count": 30,
   "metadata": {},
   "outputs": [
    {
     "data": {
      "text/plain": [
       "0         0\n",
       "1         0\n",
       "2         0\n",
       "3         0\n",
       "4         0\n",
       "5         0\n",
       "6         0\n",
       "7         0\n",
       "8         0\n",
       "9         0\n",
       "10        0\n",
       "11        0\n",
       "12        0\n",
       "13        0\n",
       "14        0\n",
       "15        0\n",
       "16        0\n",
       "17        0\n",
       "18        0\n",
       "19        0\n",
       "20        0\n",
       "21        0\n",
       "22        0\n",
       "23        0\n",
       "24        0\n",
       "25        0\n",
       "26        0\n",
       "27        0\n",
       "28        0\n",
       "29        0\n",
       "         ..\n",
       "159541    0\n",
       "159542    0\n",
       "159543    0\n",
       "159544    0\n",
       "159545    0\n",
       "159546    0\n",
       "159547    0\n",
       "159548    0\n",
       "159549    0\n",
       "159550    0\n",
       "159551    0\n",
       "159552    0\n",
       "159553    0\n",
       "159554    0\n",
       "159555    0\n",
       "159556    0\n",
       "159557    0\n",
       "159558    0\n",
       "159559    0\n",
       "159560    0\n",
       "159561    0\n",
       "159562    0\n",
       "159563    0\n",
       "159564    0\n",
       "159565    0\n",
       "159566    0\n",
       "159567    0\n",
       "159568    0\n",
       "159569    0\n",
       "159570    0\n",
       "Name: smilies, Length: 159571, dtype: int64"
      ]
     },
     "execution_count": 30,
     "metadata": {},
     "output_type": "execute_result"
    }
   ],
   "source": [
    "#calculating smiles used in given text\n",
    "train['smilies'] = train['comment_text'].apply(\n",
    "    lambda comment: sum(comment.count(w) for w in (':-)', ':)', ';-)', ';)')))\n",
    "train['smilies']"
   ]
  },
  {
   "cell_type": "code",
   "execution_count": 31,
   "metadata": {},
   "outputs": [
    {
     "data": {
      "text/plain": [
       "0          43\n",
       "1          17\n",
       "2          42\n",
       "3         113\n",
       "4          13\n",
       "5          13\n",
       "6           8\n",
       "7          20\n",
       "8          83\n",
       "9          12\n",
       "10        494\n",
       "11         11\n",
       "12         53\n",
       "13        142\n",
       "14         39\n",
       "15        118\n",
       "16         10\n",
       "17          5\n",
       "18         21\n",
       "19         81\n",
       "20         42\n",
       "21         11\n",
       "22         82\n",
       "23         14\n",
       "24        228\n",
       "25         23\n",
       "26         49\n",
       "27         60\n",
       "28         29\n",
       "29         16\n",
       "         ... \n",
       "159541     58\n",
       "159542     30\n",
       "159543     13\n",
       "159544      4\n",
       "159545     18\n",
       "159546    103\n",
       "159547      6\n",
       "159548      4\n",
       "159549      5\n",
       "159550     33\n",
       "159551     30\n",
       "159552     15\n",
       "159553    156\n",
       "159554     35\n",
       "159555     23\n",
       "159556     12\n",
       "159557     81\n",
       "159558     21\n",
       "159559     57\n",
       "159560    314\n",
       "159561    222\n",
       "159562    170\n",
       "159563     69\n",
       "159564     63\n",
       "159565    112\n",
       "159566     47\n",
       "159567     18\n",
       "159568     12\n",
       "159569     25\n",
       "159570     36\n",
       "Name: num_words, Length: 159571, dtype: int64"
      ]
     },
     "execution_count": 31,
     "metadata": {},
     "output_type": "execute_result"
    }
   ],
   "source": [
    "#calculating if any used of digits in the text\n",
    "train['num_words'] = train['comment_text'].apply(lambda comment: len(comment.split()))\n",
    "train['num_words']"
   ]
  },
  {
   "cell_type": "code",
   "execution_count": 32,
   "metadata": {},
   "outputs": [
    {
     "data": {
      "text/html": [
       "<div>\n",
       "<style scoped>\n",
       "    .dataframe tbody tr th:only-of-type {\n",
       "        vertical-align: middle;\n",
       "    }\n",
       "\n",
       "    .dataframe tbody tr th {\n",
       "        vertical-align: top;\n",
       "    }\n",
       "\n",
       "    .dataframe thead th {\n",
       "        text-align: right;\n",
       "    }\n",
       "</style>\n",
       "<table border=\"1\" class=\"dataframe\">\n",
       "  <thead>\n",
       "    <tr style=\"text-align: right;\">\n",
       "      <th></th>\n",
       "      <th>id</th>\n",
       "      <th>comment_text</th>\n",
       "      <th>toxic</th>\n",
       "      <th>severe_toxic</th>\n",
       "      <th>obscene</th>\n",
       "      <th>threat</th>\n",
       "      <th>insult</th>\n",
       "      <th>identity_hate</th>\n",
       "      <th>total_length</th>\n",
       "      <th>capitals</th>\n",
       "      <th>exclamation</th>\n",
       "      <th>Question</th>\n",
       "      <th>smilies</th>\n",
       "      <th>num_words</th>\n",
       "    </tr>\n",
       "  </thead>\n",
       "  <tbody>\n",
       "    <tr>\n",
       "      <th>0</th>\n",
       "      <td>0000997932d777bf</td>\n",
       "      <td>Explanation\\nWhy the edits made under my usern...</td>\n",
       "      <td>0</td>\n",
       "      <td>0</td>\n",
       "      <td>0</td>\n",
       "      <td>0</td>\n",
       "      <td>0</td>\n",
       "      <td>0</td>\n",
       "      <td>264</td>\n",
       "      <td>17</td>\n",
       "      <td>0</td>\n",
       "      <td>1</td>\n",
       "      <td>0</td>\n",
       "      <td>43</td>\n",
       "    </tr>\n",
       "    <tr>\n",
       "      <th>1</th>\n",
       "      <td>000103f0d9cfb60f</td>\n",
       "      <td>D'aww! He matches this background colour I'm s...</td>\n",
       "      <td>0</td>\n",
       "      <td>0</td>\n",
       "      <td>0</td>\n",
       "      <td>0</td>\n",
       "      <td>0</td>\n",
       "      <td>0</td>\n",
       "      <td>112</td>\n",
       "      <td>8</td>\n",
       "      <td>1</td>\n",
       "      <td>0</td>\n",
       "      <td>0</td>\n",
       "      <td>17</td>\n",
       "    </tr>\n",
       "    <tr>\n",
       "      <th>2</th>\n",
       "      <td>000113f07ec002fd</td>\n",
       "      <td>Hey man, I'm really not trying to edit war. It...</td>\n",
       "      <td>0</td>\n",
       "      <td>0</td>\n",
       "      <td>0</td>\n",
       "      <td>0</td>\n",
       "      <td>0</td>\n",
       "      <td>0</td>\n",
       "      <td>233</td>\n",
       "      <td>4</td>\n",
       "      <td>0</td>\n",
       "      <td>0</td>\n",
       "      <td>0</td>\n",
       "      <td>42</td>\n",
       "    </tr>\n",
       "    <tr>\n",
       "      <th>3</th>\n",
       "      <td>0001b41b1c6bb37e</td>\n",
       "      <td>\"\\nMore\\nI can't make any real suggestions on ...</td>\n",
       "      <td>0</td>\n",
       "      <td>0</td>\n",
       "      <td>0</td>\n",
       "      <td>0</td>\n",
       "      <td>0</td>\n",
       "      <td>0</td>\n",
       "      <td>622</td>\n",
       "      <td>11</td>\n",
       "      <td>0</td>\n",
       "      <td>0</td>\n",
       "      <td>0</td>\n",
       "      <td>113</td>\n",
       "    </tr>\n",
       "    <tr>\n",
       "      <th>4</th>\n",
       "      <td>0001d958c54c6e35</td>\n",
       "      <td>You, sir, are my hero. Any chance you remember...</td>\n",
       "      <td>0</td>\n",
       "      <td>0</td>\n",
       "      <td>0</td>\n",
       "      <td>0</td>\n",
       "      <td>0</td>\n",
       "      <td>0</td>\n",
       "      <td>67</td>\n",
       "      <td>2</td>\n",
       "      <td>0</td>\n",
       "      <td>1</td>\n",
       "      <td>0</td>\n",
       "      <td>13</td>\n",
       "    </tr>\n",
       "  </tbody>\n",
       "</table>\n",
       "</div>"
      ],
      "text/plain": [
       "                 id                                       comment_text  toxic  \\\n",
       "0  0000997932d777bf  Explanation\\nWhy the edits made under my usern...      0   \n",
       "1  000103f0d9cfb60f  D'aww! He matches this background colour I'm s...      0   \n",
       "2  000113f07ec002fd  Hey man, I'm really not trying to edit war. It...      0   \n",
       "3  0001b41b1c6bb37e  \"\\nMore\\nI can't make any real suggestions on ...      0   \n",
       "4  0001d958c54c6e35  You, sir, are my hero. Any chance you remember...      0   \n",
       "\n",
       "   severe_toxic  obscene  threat  insult  identity_hate  total_length  \\\n",
       "0             0        0       0       0              0           264   \n",
       "1             0        0       0       0              0           112   \n",
       "2             0        0       0       0              0           233   \n",
       "3             0        0       0       0              0           622   \n",
       "4             0        0       0       0              0            67   \n",
       "\n",
       "   capitals  exclamation  Question  smilies  num_words  \n",
       "0        17            0         1        0         43  \n",
       "1         8            1         0        0         17  \n",
       "2         4            0         0        0         42  \n",
       "3        11            0         0        0        113  \n",
       "4         2            0         1        0         13  "
      ]
     },
     "execution_count": 32,
     "metadata": {},
     "output_type": "execute_result"
    }
   ],
   "source": [
    "train.head()"
   ]
  },
  {
   "cell_type": "code",
   "execution_count": 33,
   "metadata": {},
   "outputs": [
    {
     "data": {
      "text/html": [
       "<div>\n",
       "<style scoped>\n",
       "    .dataframe tbody tr th:only-of-type {\n",
       "        vertical-align: middle;\n",
       "    }\n",
       "\n",
       "    .dataframe tbody tr th {\n",
       "        vertical-align: top;\n",
       "    }\n",
       "\n",
       "    .dataframe thead th {\n",
       "        text-align: right;\n",
       "    }\n",
       "</style>\n",
       "<table border=\"1\" class=\"dataframe\">\n",
       "  <thead>\n",
       "    <tr style=\"text-align: right;\">\n",
       "      <th></th>\n",
       "      <th>identity_hate</th>\n",
       "      <th>insult</th>\n",
       "      <th>obscene</th>\n",
       "      <th>severe_toxic</th>\n",
       "      <th>threat</th>\n",
       "      <th>toxic</th>\n",
       "    </tr>\n",
       "  </thead>\n",
       "  <tbody>\n",
       "    <tr>\n",
       "      <th>total_length</th>\n",
       "      <td>-0.013647</td>\n",
       "      <td>-0.045052</td>\n",
       "      <td>-0.042945</td>\n",
       "      <td>0.010131</td>\n",
       "      <td>-0.008011</td>\n",
       "      <td>-0.054470</td>\n",
       "    </tr>\n",
       "    <tr>\n",
       "      <th>capitals</th>\n",
       "      <td>0.053576</td>\n",
       "      <td>0.075945</td>\n",
       "      <td>0.081691</td>\n",
       "      <td>0.143410</td>\n",
       "      <td>0.033581</td>\n",
       "      <td>0.091175</td>\n",
       "    </tr>\n",
       "    <tr>\n",
       "      <th>exclamation</th>\n",
       "      <td>0.006005</td>\n",
       "      <td>0.027010</td>\n",
       "      <td>0.024362</td>\n",
       "      <td>0.060578</td>\n",
       "      <td>0.034202</td>\n",
       "      <td>0.037337</td>\n",
       "    </tr>\n",
       "    <tr>\n",
       "      <th>Question</th>\n",
       "      <td>-0.000516</td>\n",
       "      <td>0.004859</td>\n",
       "      <td>0.005404</td>\n",
       "      <td>-0.004541</td>\n",
       "      <td>-0.003949</td>\n",
       "      <td>0.027820</td>\n",
       "    </tr>\n",
       "    <tr>\n",
       "      <th>smilies</th>\n",
       "      <td>0.001206</td>\n",
       "      <td>-0.004066</td>\n",
       "      <td>-0.003254</td>\n",
       "      <td>-0.002564</td>\n",
       "      <td>-0.001524</td>\n",
       "      <td>-0.003833</td>\n",
       "    </tr>\n",
       "    <tr>\n",
       "      <th>num_words</th>\n",
       "      <td>-0.014493</td>\n",
       "      <td>-0.043642</td>\n",
       "      <td>-0.042207</td>\n",
       "      <td>0.008452</td>\n",
       "      <td>-0.006688</td>\n",
       "      <td>-0.052444</td>\n",
       "    </tr>\n",
       "  </tbody>\n",
       "</table>\n",
       "</div>"
      ],
      "text/plain": [
       "              identity_hate    insult   obscene  severe_toxic    threat  \\\n",
       "total_length      -0.013647 -0.045052 -0.042945      0.010131 -0.008011   \n",
       "capitals           0.053576  0.075945  0.081691      0.143410  0.033581   \n",
       "exclamation        0.006005  0.027010  0.024362      0.060578  0.034202   \n",
       "Question          -0.000516  0.004859  0.005404     -0.004541 -0.003949   \n",
       "smilies            0.001206 -0.004066 -0.003254     -0.002564 -0.001524   \n",
       "num_words         -0.014493 -0.043642 -0.042207      0.008452 -0.006688   \n",
       "\n",
       "                 toxic  \n",
       "total_length -0.054470  \n",
       "capitals      0.091175  \n",
       "exclamation   0.037337  \n",
       "Question      0.027820  \n",
       "smilies      -0.003833  \n",
       "num_words    -0.052444  "
      ]
     },
     "execution_count": 33,
     "metadata": {},
     "output_type": "execute_result"
    }
   ],
   "source": [
    "# checking of corellation with the existing feature of the data\n",
    "features = ('total_length', 'capitals','exclamation','Question', 'smilies', 'num_words')\n",
    "columns = ('toxic', 'severe_toxic', 'obscene', 'threat', 'insult', 'identity_hate')\n",
    "\n",
    "rows = [{c:train[f].corr(train[c]) for c in columns} for f in features]\n",
    "df_correlations = pd.DataFrame(rows, index=features)\n",
    "df_correlations"
   ]
  },
  {
   "cell_type": "code",
   "execution_count": 34,
   "metadata": {},
   "outputs": [],
   "source": [
    "#Remove \\n from the given text\n",
    "train['comment_text'] = train['comment_text'].map(lambda x: re.sub('\\\\n',' ',str(x)))\n",
    "test['comment_text'] = test['comment_text'].map(lambda x: re.sub('\\\\n',' ',str(x)))\n",
    "\n"
   ]
  },
  {
   "cell_type": "code",
   "execution_count": 35,
   "metadata": {},
   "outputs": [],
   "source": [
    "#Remove IP address \n",
    "train['comment_text'] = train['comment_text'].map(lambda x : re.sub('\\d{1,3}\\.\\d{1,3}\\.\\d{1,3}\\.\\d{1,3}','',str(x)))\n",
    "test['comment_text'] = test['comment_text'].map(lambda x : re.sub('\\d{1,3}\\.\\d{1,3}\\.\\d{1,3}\\.\\d{1,3}','',str(x)))"
   ]
  },
  {
   "cell_type": "code",
   "execution_count": 36,
   "metadata": {},
   "outputs": [],
   "source": [
    "# Remove http links in the text\n",
    "train['comment_text'] = train['comment_text'].map(lambda x: re.sub(\"(http://.*?\\s)|(http://.*)\",'',str(x)))\n",
    "test['comment_text'] = test['comment_text'].map(lambda x: re.sub(\"(http://.*?\\s)|(http://.*)\",'',str(x)))    \n",
    "# Remove all punctuation except for apostrophe (')\n",
    "train['comment_text'] = train['comment_text'].map(lambda x: re.sub('[!\"#$%&\\()*+,-./:;<=>?@[\\\\]^_`{|}~]','',str(x)))\n",
    "test['comment_text'] = test['comment_text'].map(lambda x: re.sub('[!\"#$%&\\()*+,-./:;<=>?@[\\\\]^_`{|}~]','',str(x)))"
   ]
  },
  {
   "cell_type": "code",
   "execution_count": 37,
   "metadata": {},
   "outputs": [
    {
     "data": {
      "text/plain": [
       "1"
      ]
     },
     "execution_count": 37,
     "metadata": {},
     "output_type": "execute_result"
    }
   ],
   "source": [
    "train['num_words'].max()\n",
    "train['num_words'].min()"
   ]
  },
  {
   "cell_type": "code",
   "execution_count": 38,
   "metadata": {},
   "outputs": [
    {
     "data": {
      "text/plain": [
       "\"Explanation Why edits made username Hardcore Metallica Fan reverted They vandalisms closure GAs I voted New York Dolls FAC And please remove template talk page since I'm retired\""
      ]
     },
     "execution_count": 38,
     "metadata": {},
     "output_type": "execute_result"
    }
   ],
   "source": [
    "# Stop word removal in TRAIN\n",
    "#nltk.download('stopwords')\n",
    "stop = stopwords.words('english')\n",
    "train['comment_text'] = train['comment_text'].apply(lambda x: \" \".join(x for x in x.split() if x not in stop))\n",
    "train['comment_text'][0]"
   ]
  },
  {
   "cell_type": "code",
   "execution_count": 39,
   "metadata": {},
   "outputs": [
    {
     "data": {
      "text/plain": [
       "'Yo bitch Ja Rule succesful ever whats hating sad mofuckasi bitch slap ur pethedic white faces get kiss ass guys sicken Ja rule pride da music man dont diss shit nothin wrong bein like tupac brother toofuckin white boys get things right next time'"
      ]
     },
     "execution_count": 39,
     "metadata": {},
     "output_type": "execute_result"
    }
   ],
   "source": [
    "# Stop word removal in TEST\n",
    "test['comment_text'] = test['comment_text'].apply(lambda x: \" \".join(x for x in x.split() if x not in stop))\n",
    "test['comment_text'][0]"
   ]
  },
  {
   "cell_type": "code",
   "execution_count": 40,
   "metadata": {},
   "outputs": [],
   "source": [
    "#SPlit different words\n",
    "train['comment_text']=train['comment_text'].apply(lambda tweet: re.sub(r'([a-z])([A-Z])',r'\\1 \\2',tweet))\n",
    "test['comment_text']=test['comment_text'].apply(lambda tweet: re.sub(r'([a-z])([A-Z])',r'\\1 \\2',tweet))"
   ]
  },
  {
   "cell_type": "code",
   "execution_count": 41,
   "metadata": {},
   "outputs": [
    {
     "data": {
      "text/plain": [
       "'Went several hours ago sorry Gazaflotillaclash'"
      ]
     },
     "execution_count": 41,
     "metadata": {},
     "output_type": "execute_result"
    }
   ],
   "source": [
    "train['comment_text'][134566]"
   ]
  },
  {
   "cell_type": "code",
   "execution_count": 42,
   "metadata": {},
   "outputs": [],
   "source": [
    "#Data Cleaning\n",
    "def abc(x,y):\n",
    "    x[y] = x[y].str.replace(r\"http\\S+\",\"\")\n",
    "    x[y] = x[y].str.replace(r\"http\",\"\")\n",
    "    x[y] = x[y].str.replace(r\"@\\S+\", \"\")\n",
    "    x[y] = x[y].str.replace(r'[^A-Za-z0-9(),!?@\\'\\`\\\"\\_\\n]',' ')\n",
    "    x[y] = x[y].str.replace(r\"@\", \"at\")\n",
    "    x[y] = x[y].str.replace(r\"\\n\",\" \")\n",
    "    x[y] = x[y].str.lower()\n",
    "    return x \n",
    "\n"
   ]
  },
  {
   "cell_type": "code",
   "execution_count": 43,
   "metadata": {},
   "outputs": [
    {
     "data": {
      "text/plain": [
       "\"explanation why edits made username hardcore metallica fan reverted they vandalisms closure gas i voted new york dolls fac and please remove template talk page since i'm retired\""
      ]
     },
     "execution_count": 43,
     "metadata": {},
     "output_type": "execute_result"
    }
   ],
   "source": [
    "#cleaning of func(abc) - Train\n",
    "train = abc(train,'comment_text')\n",
    "train[\"comment_text\"][0]\n"
   ]
  },
  {
   "cell_type": "code",
   "execution_count": 44,
   "metadata": {},
   "outputs": [
    {
     "data": {
      "text/plain": [
       "'yo bitch ja rule succesful ever whats hating sad mofuckasi bitch slap ur pethedic white faces get kiss ass guys sicken ja rule pride da music man dont diss shit nothin wrong bein like tupac brother toofuckin white boys get things right next time'"
      ]
     },
     "execution_count": 44,
     "metadata": {},
     "output_type": "execute_result"
    }
   ],
   "source": [
    "# cleaning test data func(abc)\n",
    "test = abc(test,'comment_text')\n",
    "test[\"comment_text\"][0]"
   ]
  },
  {
   "cell_type": "code",
   "execution_count": 45,
   "metadata": {},
   "outputs": [],
   "source": [
    "# function for text cleaning\n",
    "def clean_text(text):\n",
    "    text = text.lower()\n",
    "    text = re.sub(r\"what's\", \"what is \", text)\n",
    "    text = re.sub(r\"\\'s\", \" \", text)\n",
    "    text = re.sub(r\"\\'ve\", \" have \", text)\n",
    "    text = re.sub(r\"can't\", \"cannot \", text)\n",
    "    text = re.sub(r\"n't\", \" not \", text)\n",
    "    text = re.sub(r\"i'm\", \"i am \", text)\n",
    "    text = re.sub(r\"\\'re\", \" are \", text)\n",
    "    text = re.sub(r\"\\'d\", \" would \", text)\n",
    "    text = re.sub(r\"\\'ll\", \" will \", text)\n",
    "    text = re.sub(r\"\\'scuse\", \" excuse \", text)\n",
    "    text = re.sub('\\W', ' ', text)\n",
    "    text = re.sub('\\s+', ' ', text)\n",
    "    text = re.sub('\\d+', '',text)\n",
    "    text = re.sub('_','',text)\n",
    "    text = text.strip(' ')\n",
    "    text = re.sub(r\"\\=\", \" = \", text)\n",
    "    text = re.sub(r\"'\", \" \", text)\n",
    "    text = re.sub(r\"(\\d+)(k)\", r\"\\g<1>000\", text)\n",
    "    text = re.sub(r\":\", \" : \", text)\n",
    "    text = re.sub(r\" e g \", \" eg \", text)\n",
    "    text = re.sub(r\" b g \", \" bg \", text)\n",
    "    text = re.sub(r\" u s \", \" american \", text)\n",
    "    text = re.sub(r\"\\0s\", \"0\", text)\n",
    "    text = re.sub(r\" 9 11 \", \"911\", text)\n",
    "    text = re.sub(r\"e - mail\", \"email\", text)\n",
    "    return text"
   ]
  },
  {
   "cell_type": "code",
   "execution_count": 46,
   "metadata": {},
   "outputs": [],
   "source": [
    "# cleaning test and train data using func(clean_text)\n",
    "train['comment_text'] = train['comment_text'].map(lambda com : clean_text(com))\n",
    "test['comment_text'] = test['comment_text'].map(lambda com : clean_text(com))"
   ]
  },
  {
   "cell_type": "code",
   "execution_count": 47,
   "metadata": {},
   "outputs": [
    {
     "data": {
      "text/plain": [
       "'bye do not look come think comming back tosser'"
      ]
     },
     "execution_count": 47,
     "metadata": {},
     "output_type": "execute_result"
    }
   ],
   "source": [
    "# train.to_csv(\"traincleandata.csv\")\n",
    "train['comment_text'][16]"
   ]
  },
  {
   "cell_type": "code",
   "execution_count": 48,
   "metadata": {},
   "outputs": [],
   "source": [
    "#Common word removal\n",
    "#freq = pd.Series(' '.join(train['comment_text']).split()).value_counts()[:10]\n",
    "#freq\n"
   ]
  },
  {
   "cell_type": "code",
   "execution_count": 49,
   "metadata": {},
   "outputs": [],
   "source": [
    "#Rare word removal\n",
    "#freq_rare = pd.Series(' '.join(train['comment_text']).split()).value_counts()[-10:]\n",
    "#freq_rare"
   ]
  },
  {
   "cell_type": "code",
   "execution_count": 50,
   "metadata": {},
   "outputs": [],
   "source": [
    "#pip install TextBlob"
   ]
  },
  {
   "cell_type": "code",
   "execution_count": 51,
   "metadata": {},
   "outputs": [],
   "source": [
    "#Spelling correction\n",
    "#from textblob import TextBlob\n",
    "#train['comment_text'] = train['comment_text'].apply(lambda x: str(TextBlob(x).correct()))"
   ]
  },
  {
   "cell_type": "code",
   "execution_count": 52,
   "metadata": {},
   "outputs": [],
   "source": [
    "#train['comment_text'][2]"
   ]
  },
  {
   "cell_type": "code",
   "execution_count": 53,
   "metadata": {},
   "outputs": [],
   "source": [
    "#TextBlob(train['comment_text'][1]).words"
   ]
  },
  {
   "cell_type": "code",
   "execution_count": 54,
   "metadata": {},
   "outputs": [],
   "source": [
    "#from nltk.tokenize import RegexpTokenizer\n",
    "#tokenizer = RegexpTokenizer(r'\\w+')\n",
    "#train[\"tokens\"] = train[\"comment_text\"].apply(tokenizer.tokenize)"
   ]
  },
  {
   "cell_type": "code",
   "execution_count": 55,
   "metadata": {},
   "outputs": [],
   "source": [
    "#from textblob import Word\n",
    "#train['lemme'] = train['comment_text'][:5].apply(lambda x: \" \".join([Word(word).lemmatize() for word in x.split()]))\n",
    "#train['comment_text'].head()"
   ]
  },
  {
   "cell_type": "code",
   "execution_count": 56,
   "metadata": {},
   "outputs": [],
   "source": [
    "#Stemming the data TRAIN AND TEST BOTH\n",
    "st = SnowballStemmer('english')\n",
    "train['stemmer'] = train['comment_text'].apply(lambda x: \" \".join([st.stem(word) for word in x.split()]))\n",
    "test['stemmer'] = test['comment_text'].apply(lambda x: \" \".join([st.stem(word) for word in x.split()]))"
   ]
  },
  {
   "cell_type": "code",
   "execution_count": 57,
   "metadata": {},
   "outputs": [
    {
     "data": {
      "text/plain": [
       "'bye do not look come think com back tosser'"
      ]
     },
     "execution_count": 57,
     "metadata": {},
     "output_type": "execute_result"
    }
   ],
   "source": [
    "train['stemmer'][16]"
   ]
  },
  {
   "cell_type": "code",
   "execution_count": 58,
   "metadata": {},
   "outputs": [],
   "source": [
    "# creating new train and test file\n",
    "#train.to_csv(\"C:/Users/Anish/Downloads/Data/traincleandata.csv\")\n",
    "#test.to_csv(\"C:/Users/Anish/Downloads/Data/testcleandata.csv\")"
   ]
  },
  {
   "cell_type": "code",
   "execution_count": null,
   "metadata": {},
   "outputs": [],
   "source": [
    "#Sequence padding\n",
    "#maxlen = 150\n",
    "#tokenizer = Tokenizer(num_words=max_features)\n",
    "#tokenizer.fit_on_texts(list(rain))\n",
    "#train = tokenizer.texts_to_sequences(train)\n",
    "#test = tokenizer.texts_to_sequences(test)\n",
    "#train_seq = pad_sequences(list_tokenized_train, maxlen=maxlen)\n",
    "#test_seq= pad_sequences(list_tokenized_test, maxlen=maxlen)"
   ]
  },
  {
   "cell_type": "code",
   "execution_count": 59,
   "metadata": {},
   "outputs": [],
   "source": [
    "#COnverting to BOW and then to TF_IDF\n",
    "#from sklearn.feature_extraction.text import CountVectorizer\n",
    "#from sklearn.feature_extraction.text import TfidfTransformer\n",
    "\n",
    "#vectorizer = CountVectorizer(max_features=2000, min_df=5, max_df=0.7)\n",
    "#X = vectorizer.fit_transform(train['stemmer']).toarray()\n",
    "\n",
    "#tfidfconverter = TfidfTransformer()\n",
    "#X = tfidfconverter.fit_transform(X).toarray()\n",
    "\n",
    "#y = train.iloc[:,2:8]\n",
    "#y = train.toxic"
   ]
  },
  {
   "cell_type": "code",
   "execution_count": 60,
   "metadata": {},
   "outputs": [],
   "source": [
    "#Directly converting into TF-IDF scores\n",
    "#from sklearn.feature_extraction.text import TfidfVectorizer\n",
    "#tfidfconverter = TfidfVectorizer(max_features=2000, min_df=5, max_df=0.7)\n",
    "#X = tfidfconverter.fit_transform(train['stemmer'])\n",
    "\n",
    "#from sklearn.model_selection import train_test_split\n",
    "#X_train, X_test, y_train, y_test = train_test_split(X, y, test_size=0.2, random_state=0)\n",
    "#X_train.shape, y_train.shape , X_test.shape, y_test.shape,y_train_new"
   ]
  },
  {
   "cell_type": "code",
   "execution_count": 61,
   "metadata": {},
   "outputs": [
    {
     "name": "stdout",
     "output_type": "stream",
     "text": [
      "(127656,)\n",
      "(31915,)\n"
     ]
    }
   ],
   "source": [
    "# importing required packages \n",
    "from sklearn.model_selection import train_test_split\n",
    "from sklearn.pipeline import Pipeline\n",
    "from sklearn.svm import LinearSVC\n",
    "from sklearn.ensemble import GradientBoostingClassifier\n",
    "from sklearn.linear_model import LogisticRegression\n",
    "from sklearn.linear_model import LogisticRegressionCV\n",
    "from sklearn.tree import DecisionTreeClassifier\n",
    "from sklearn.multiclass import OneVsRestClassifier\n",
    "from sklearn.metrics import accuracy_score,balanced_accuracy_score\n",
    "from sklearn.metrics import confusion_matrix, classification_report\n",
    "from sklearn.metrics import roc_auc_score, accuracy_score, roc_curve, confusion_matrix, multilabel_confusion_matrix, classification_report\n",
    "\n",
    "#Spliting data using 80:20 holdout into train and test. \n",
    "categories = ['toxic', 'severe_toxic', 'obscene', 'threat', 'insult', 'identity_hate']\n",
    "train, test = train_test_split(train, random_state=42, test_size=0.2 ,shuffle=True)\n",
    "X_train = train.stemmer\n",
    "X_test = test.stemmer\n",
    "print(X_train.shape)\n",
    "print(X_test.shape)"
   ]
  },
  {
   "cell_type": "code",
   "execution_count": 59,
   "metadata": {},
   "outputs": [
    {
     "name": "stdout",
     "output_type": "stream",
     "text": [
      "test labels                   id  toxic  severe_toxic  obscene  threat  insult  \\\n",
      "5   0001ea8717f6de06      0             0        0       0       0   \n",
      "7   000247e83dcc1211      0             0        0       0       0   \n",
      "11  0002f87b16116a7f      0             0        0       0       0   \n",
      "13  0003e1cccfd5a40a      0             0        0       0       0   \n",
      "14  00059ace3e3e9a53      0             0        0       0       0   \n",
      "16  000663aff0fffc80      0             0        0       0       0   \n",
      "17  000689dd34e20979      0             0        0       0       0   \n",
      "19  000844b52dee5f3f      0             0        0       0       0   \n",
      "21  00091c35fa9d0465      1             0        0       0       0   \n",
      "22  000968ce11f5ee34      0             0        0       0       0   \n",
      "\n",
      "    identity_hate  \n",
      "5               0  \n",
      "7               0  \n",
      "11              0  \n",
      "13              0  \n",
      "14              0  \n",
      "16              0  \n",
      "17              0  \n",
      "19              0  \n",
      "21              0  \n",
      "22              0  \n"
     ]
    }
   ],
   "source": [
    "# Calculating train_features, test_feature ,train_labels and test_labels\n",
    "test_labels = pd.read_csv('C:/Users/Anish/Downloads/Data/test_labels.csv')\n",
    "submission = pd.read_csv('C:/Users/Anish/Downloads/Data/sample_submission.csv')\n",
    "test = test[test_labels['toxic'] != -1]\n",
    "test_labels = test_labels[test_labels['toxic'] != -1]\n",
    "test_features = test.stemmer\n",
    "train_features = train.stemmer\n",
    "print('test labels', test_labels.head(10))\n",
    "train_labels = train.drop(['id', 'comment_text','total_length', 'capitals','exclamation','Question', 'smilies', 'num_words','stemmer'], axis = 1)\n",
    "test_labels = test_labels.drop(['id'], axis = 1)\n",
    "labels = ['toxic', 'severe_toxic', 'obscene', 'threat', 'insult', 'identity_hate']\n"
   ]
  },
  {
   "cell_type": "code",
   "execution_count": 64,
   "metadata": {},
   "outputs": [
    {
     "data": {
      "text/plain": [
       "((159571,), (159571, 6), (63978,), (63978, 6))"
      ]
     },
     "execution_count": 64,
     "metadata": {},
     "output_type": "execute_result"
    }
   ],
   "source": [
    "train_features.shape, train_labels.shape, test_features.shape, test_labels.shape"
   ]
  },
  {
   "cell_type": "code",
   "execution_count": 64,
   "metadata": {},
   "outputs": [],
   "source": [
    "# Creating the pipeline function for differnt classifiers\n",
    "GBC_pipeline = Pipeline([\n",
    "                ('tfidf', TfidfVectorizer(max_features=2000, min_df=5, max_df=0.7)),\n",
    "                ('clf', OneVsRestClassifier(GradientBoostingClassifier(), n_jobs=1)),\n",
    "            ])\n",
    "\n",
    "SVC_pipeline = Pipeline([\n",
    "                ('tfidf', TfidfVectorizer(max_features=2000, min_df=5, max_df=0.7, use_idf ='TRUE')),\n",
    "                ('clf', OneVsRestClassifier(LinearSVC(), n_jobs=1)),\n",
    "            ])\n",
    "\n",
    "LOG_pipeline = Pipeline([\n",
    "                ('tfidf', TfidfVectorizer(max_features=2000, min_df=5, max_df=0.7)),\n",
    "                ('clf', OneVsRestClassifier(LogisticRegression(solver='sag'), n_jobs=1)),\n",
    "            ])\n",
    "\n",
    "DT_pipeline = Pipeline([\n",
    "                ('tfidf', TfidfVectorizer(max_features=2000, min_df=5, max_df=0.7)),\n",
    "                ('clf', OneVsRestClassifier(DecisionTreeClassifier(), n_jobs=1)),\n",
    "            ])"
   ]
  },
  {
   "cell_type": "code",
   "execution_count": 65,
   "metadata": {},
   "outputs": [],
   "source": [
    "# function to plot ROC curve\n",
    "def plot_roc_curve(test_features, predict_prob):\n",
    "    fpr, tpr, thresholds = roc_curve(test_features, predict_prob)\n",
    "    plt.plot(fpr, tpr)\n",
    "    plt.xlim([0.0, 1.0])\n",
    "    plt.ylim([0.0, 1.0])\n",
    "    plt.title('ROC curve for toxic comments')\n",
    "    plt.xlabel('False Positive Rate')\n",
    "    plt.ylabel('True Positive Rate')\n",
    "    plt.grid(True)\n",
    "    plt.legend(labels)"
   ]
  },
  {
   "cell_type": "code",
   "execution_count": 66,
   "metadata": {},
   "outputs": [],
   "source": [
    "# function to calculate accuracy, confusion matrix ,roc and classification report\n",
    "def run_pipeline(pipeline, train_feats, train_lbls, test_feats, test_lbls):\n",
    "    pipeline.fit(train_feats, train_lbls)\n",
    "    predictions = pipeline.predict(test_feats)\n",
    "    pred_proba = pipeline.predict_proba(test_feats)\n",
    "    print('roc_auc: ', roc_auc_score(test_lbls, pred_proba))\n",
    "    print('accuracy: ',accuracy_score(test_lbls, predictions))\n",
    "    print('confusion matrices:')\n",
    "    print(multilabel_confusion_matrix(test_lbls, predictions))\n",
    "    print('classification_report: ')\n",
    "    print(classification_report(test_lbls, predictions))\n",
    "    "
   ]
  },
  {
   "cell_type": "code",
   "execution_count": 67,
   "metadata": {},
   "outputs": [],
   "source": [
    "# function for executing svm classifier\n",
    "def run_SVM_pipeline(pipeline, train_feats, train_lbls, test_feats, test_lbls):\n",
    "    pipeline.fit(train_feats, train_labels)\n",
    "    predictions = pipeline.predict(test_feats)\n",
    "    print('accuracy: ', accuracy_score(test_lbls, predictions))\n",
    "    print('confusion matrices:')\n",
    "    print(multilabel_confusion_matrix(test_lbls, predictions))\n",
    "    print('classification_report: ')\n",
    "    print(classification_report(test_lbls, predictions))"
   ]
  },
  {
   "cell_type": "code",
   "execution_count": 68,
   "metadata": {},
   "outputs": [],
   "source": [
    "# ploting roc curve using pipeline\n",
    "def plot_pipeline_roc_curve(pipeline, train_feats, train_lbls, test_feats, test_lbls):\n",
    "    for label in labels:\n",
    "        pipeline.fit(train_feats, train[labels])\n",
    "        pred_proba = pipeline.predict_proba(test_feats)[:,1]\n",
    "        plot_roc_curve(test_lbls[label], pred_proba)"
   ]
  },
  {
   "cell_type": "code",
   "execution_count": 68,
   "metadata": {},
   "outputs": [
    {
     "name": "stdout",
     "output_type": "stream",
     "text": [
      "roc_auc:  0.9212289990825863\n",
      "accuracy:  0.8983244240207572\n",
      "confusion matrices:\n",
      "[[[56511  1377]\n",
      "  [ 2954  3136]]\n",
      "\n",
      " [[63446   165]\n",
      "  [  287    80]]\n",
      "\n",
      " [[59215  1072]\n",
      "  [ 1472  2219]]\n",
      "\n",
      " [[63692    75]\n",
      "  [  194    17]]\n",
      "\n",
      " [[59890   661]\n",
      "  [ 1851  1576]]\n",
      "\n",
      " [[63146   120]\n",
      "  [  486   226]]]\n",
      "classification_report: \n",
      "              precision    recall  f1-score   support\n",
      "\n",
      "           0       0.69      0.51      0.59      6090\n",
      "           1       0.33      0.22      0.26       367\n",
      "           2       0.67      0.60      0.64      3691\n",
      "           3       0.18      0.08      0.11       211\n",
      "           4       0.70      0.46      0.56      3427\n",
      "           5       0.65      0.32      0.43       712\n",
      "\n",
      "   micro avg       0.68      0.50      0.58     14498\n",
      "   macro avg       0.54      0.37      0.43     14498\n",
      "weighted avg       0.67      0.50      0.57     14498\n",
      " samples avg       0.05      0.04      0.04     14498\n",
      "\n"
     ]
    },
    {
     "name": "stderr",
     "output_type": "stream",
     "text": [
      "C:\\Users\\Anish\\Anaconda3\\lib\\site-packages\\sklearn\\metrics\\classification.py:1437: UndefinedMetricWarning: Precision and F-score are ill-defined and being set to 0.0 in samples with no predicted labels.\n",
      "  'precision', 'predicted', average, warn_for)\n",
      "C:\\Users\\Anish\\Anaconda3\\lib\\site-packages\\sklearn\\metrics\\classification.py:1439: UndefinedMetricWarning: Recall and F-score are ill-defined and being set to 0.0 in samples with no true labels.\n",
      "  'recall', 'true', average, warn_for)\n"
     ]
    }
   ],
   "source": [
    "#Gradiant Boosting Algorithm\n",
    "run_pipeline(GBC_pipeline, train_features, train_labels, test_features, test_labels)"
   ]
  },
  {
   "cell_type": "code",
   "execution_count": 68,
   "metadata": {},
   "outputs": [
    {
     "data": {
      "image/png": "[encoded data removed]",
      "text/plain": [
       "<Figure size 432x288 with 1 Axes>"
      ]
     },
     "metadata": {
      "needs_background": "light"
     },
     "output_type": "display_data"
    }
   ],
   "source": [
    "plot_pipeline_roc_curve(GBC_pipeline, train_features, train_labels, test_features, test_labels)"
   ]
  },
  {
   "cell_type": "code",
   "execution_count": 70,
   "metadata": {},
   "outputs": [
    {
     "name": "stdout",
     "output_type": "stream",
     "text": [
      "accuracy:  0.888852418018694\n",
      "confusion matrices:\n",
      "[[[54904  2984]\n",
      "  [ 1504  4586]]\n",
      "\n",
      " [[63469   142]\n",
      "  [  271    96]]\n",
      "\n",
      " [[59184  1103]\n",
      "  [ 1194  2497]]\n",
      "\n",
      " [[63678    89]\n",
      "  [  156    55]]\n",
      "\n",
      " [[59684   867]\n",
      "  [ 1468  1959]]\n",
      "\n",
      " [[63150   116]\n",
      "  [  457   255]]]\n",
      "classification_report: \n",
      "              precision    recall  f1-score   support\n",
      "\n",
      "           0       0.61      0.75      0.67      6090\n",
      "           1       0.40      0.26      0.32       367\n",
      "           2       0.69      0.68      0.68      3691\n",
      "           3       0.38      0.26      0.31       211\n",
      "           4       0.69      0.57      0.63      3427\n",
      "           5       0.69      0.36      0.47       712\n",
      "\n",
      "   micro avg       0.64      0.65      0.65     14498\n",
      "   macro avg       0.58      0.48      0.51     14498\n",
      "weighted avg       0.64      0.65      0.64     14498\n",
      " samples avg       0.07      0.06      0.06     14498\n",
      "\n"
     ]
    },
    {
     "name": "stderr",
     "output_type": "stream",
     "text": [
      "C:\\Users\\Anish\\Anaconda3\\lib\\site-packages\\sklearn\\metrics\\classification.py:1437: UndefinedMetricWarning: Precision and F-score are ill-defined and being set to 0.0 in samples with no predicted labels.\n",
      "  'precision', 'predicted', average, warn_for)\n",
      "C:\\Users\\Anish\\Anaconda3\\lib\\site-packages\\sklearn\\metrics\\classification.py:1439: UndefinedMetricWarning: Recall and F-score are ill-defined and being set to 0.0 in samples with no true labels.\n",
      "  'recall', 'true', average, warn_for)\n"
     ]
    }
   ],
   "source": [
    "#Support Vector Machine\n",
    "run_SVM_pipeline(SVC_pipeline, train_features, train_labels, test_features, test_labels)"
   ]
  },
  {
   "cell_type": "code",
   "execution_count": null,
   "metadata": {},
   "outputs": [],
   "source": [
    "#plot_pipeline_roc_curve(SVC_pipeline, train_features, train_labels, test_features, test_labels)"
   ]
  },
  {
   "cell_type": "code",
   "execution_count": 71,
   "metadata": {},
   "outputs": [
    {
     "name": "stdout",
     "output_type": "stream",
     "text": [
      "roc_auc:  0.9680558540159455\n",
      "accuracy:  0.8920410140985964\n",
      "confusion matrices:\n",
      "[[[55243  2645]\n",
      "  [ 1706  4384]]\n",
      "\n",
      " [[63393   218]\n",
      "  [  248   119]]\n",
      "\n",
      " [[59418   869]\n",
      "  [ 1277  2414]]\n",
      "\n",
      " [[63695    72]\n",
      "  [  177    34]]\n",
      "\n",
      " [[59777   774]\n",
      "  [ 1552  1875]]\n",
      "\n",
      " [[63158   108]\n",
      "  [  476   236]]]\n",
      "classification_report: \n",
      "              precision    recall  f1-score   support\n",
      "\n",
      "           0       0.62      0.72      0.67      6090\n",
      "           1       0.35      0.32      0.34       367\n",
      "           2       0.74      0.65      0.69      3691\n",
      "           3       0.32      0.16      0.21       211\n",
      "           4       0.71      0.55      0.62      3427\n",
      "           5       0.69      0.33      0.45       712\n",
      "\n",
      "   micro avg       0.66      0.63      0.64     14498\n",
      "   macro avg       0.57      0.46      0.50     14498\n",
      "weighted avg       0.66      0.63      0.64     14498\n",
      " samples avg       0.06      0.06      0.06     14498\n",
      "\n"
     ]
    },
    {
     "name": "stderr",
     "output_type": "stream",
     "text": [
      "C:\\Users\\Anish\\Anaconda3\\lib\\site-packages\\sklearn\\metrics\\classification.py:1437: UndefinedMetricWarning: Precision and F-score are ill-defined and being set to 0.0 in samples with no predicted labels.\n",
      "  'precision', 'predicted', average, warn_for)\n",
      "C:\\Users\\Anish\\Anaconda3\\lib\\site-packages\\sklearn\\metrics\\classification.py:1439: UndefinedMetricWarning: Recall and F-score are ill-defined and being set to 0.0 in samples with no true labels.\n",
      "  'recall', 'true', average, warn_for)\n"
     ]
    }
   ],
   "source": [
    "#Logistic regression\n",
    "run_pipeline(LOG_pipeline, train_features, train_labels, test_features, test_labels)"
   ]
  },
  {
   "cell_type": "code",
   "execution_count": 72,
   "metadata": {},
   "outputs": [
    {
     "data": {
      "image/png": "[encoded data removed]",
      "text/plain": [
       "<Figure size 432x288 with 1 Axes>"
      ]
     },
     "metadata": {
      "needs_background": "light"
     },
     "output_type": "display_data"
    }
   ],
   "source": [
    "plot_pipeline_roc_curve(LOG_pipeline, train_features, train_labels, test_features, test_labels)"
   ]
  },
  {
   "cell_type": "code",
   "execution_count": 69,
   "metadata": {},
   "outputs": [
    {
     "name": "stdout",
     "output_type": "stream",
     "text": [
      "roc_auc:  0.742041396992081\n",
      "accuracy:  0.8435868579824315\n",
      "confusion matrices:\n",
      "[[[53438  4450]\n",
      "  [ 1628  4462]]\n",
      "\n",
      " [[63150   461]\n",
      "  [  261   106]]\n",
      "\n",
      " [[57843  2444]\n",
      "  [ 1161  2530]]\n",
      "\n",
      " [[63600   167]\n",
      "  [  151    60]]\n",
      "\n",
      " [[58149  2402]\n",
      "  [ 1386  2041]]\n",
      "\n",
      " [[62867   399]\n",
      "  [  419   293]]]\n",
      "classification_report: \n",
      "              precision    recall  f1-score   support\n",
      "\n",
      "           0       0.50      0.73      0.59      6090\n",
      "           1       0.19      0.29      0.23       367\n",
      "           2       0.51      0.69      0.58      3691\n",
      "           3       0.26      0.28      0.27       211\n",
      "           4       0.46      0.60      0.52      3427\n",
      "           5       0.42      0.41      0.42       712\n",
      "\n",
      "   micro avg       0.48      0.65      0.55     14498\n",
      "   macro avg       0.39      0.50      0.44     14498\n",
      "weighted avg       0.48      0.65      0.55     14498\n",
      " samples avg       0.06      0.06      0.06     14498\n",
      "\n"
     ]
    },
    {
     "name": "stderr",
     "output_type": "stream",
     "text": [
      "C:\\Users\\Anish\\Anaconda3\\lib\\site-packages\\sklearn\\metrics\\classification.py:1437: UndefinedMetricWarning: Precision and F-score are ill-defined and being set to 0.0 in samples with no predicted labels.\n",
      "  'precision', 'predicted', average, warn_for)\n",
      "C:\\Users\\Anish\\Anaconda3\\lib\\site-packages\\sklearn\\metrics\\classification.py:1439: UndefinedMetricWarning: Recall and F-score are ill-defined and being set to 0.0 in samples with no true labels.\n",
      "  'recall', 'true', average, warn_for)\n"
     ]
    }
   ],
   "source": [
    "#Decision Tree\n",
    "run_pipeline(DT_pipeline, train_features, train_labels, test_features, test_labels)"
   ]
  },
  {
   "cell_type": "code",
   "execution_count": 70,
   "metadata": {},
   "outputs": [
    {
     "data": {
      "image/png": "[encoded data removed]",
      "text/plain": [
       "<Figure size 432x288 with 1 Axes>"
      ]
     },
     "metadata": {
      "needs_background": "light"
     },
     "output_type": "display_data"
    }
   ],
   "source": [
    "plot_pipeline_roc_curve(DT_pipeline, train_features, train_labels, test_features, test_labels)"
   ]
  },
  {
   "cell_type": "code",
   "execution_count": 62,
   "metadata": {},
   "outputs": [
    {
     "name": "stdout",
     "output_type": "stream",
     "text": [
      "... Processing toxic\n",
      "Test accuracy is 0.7284626358088042\n",
      "Confusion matrix [[[ 1406  1650]\n",
      "  [   91 28768]]\n",
      "\n",
      " [[28768    91]\n",
      "  [ 1650  1406]]]\n",
      "roc_auc:  0.7284626358088042\n",
      "              precision    recall  f1-score   support\n",
      "\n",
      "           0       0.95      1.00      0.97     28859\n",
      "           1       0.94      0.46      0.62      3056\n",
      "\n",
      "    accuracy                           0.95     31915\n",
      "   macro avg       0.94      0.73      0.79     31915\n",
      "weighted avg       0.95      0.95      0.94     31915\n",
      "\n",
      "... Processing severe_toxic\n",
      "Test accuracy is 0.5752478338388711\n",
      "Confusion matrix [[[   49   272]\n",
      "  [   68 31526]]\n",
      "\n",
      " [[31526    68]\n",
      "  [  272    49]]]\n",
      "roc_auc:  0.5752478338388711\n",
      "              precision    recall  f1-score   support\n",
      "\n",
      "           0       0.99      1.00      0.99     31594\n",
      "           1       0.42      0.15      0.22       321\n",
      "\n",
      "    accuracy                           0.99     31915\n",
      "   macro avg       0.71      0.58      0.61     31915\n",
      "weighted avg       0.99      0.99      0.99     31915\n",
      "\n",
      "... Processing obscene\n",
      "Test accuracy is 0.8136407912266137\n",
      "Confusion matrix [[[ 1083   632]\n",
      "  [  127 30073]]\n",
      "\n",
      " [[30073   127]\n",
      "  [  632  1083]]]\n",
      "roc_auc:  0.8136407912266137\n",
      "              precision    recall  f1-score   support\n",
      "\n",
      "           0       0.98      1.00      0.99     30200\n",
      "           1       0.90      0.63      0.74      1715\n",
      "\n",
      "    accuracy                           0.98     31915\n",
      "   macro avg       0.94      0.81      0.86     31915\n",
      "weighted avg       0.97      0.98      0.97     31915\n",
      "\n",
      "... Processing threat\n",
      "Test accuracy is 0.5469989398336498\n",
      "Confusion matrix [[[    7    67]\n",
      "  [   19 31822]]\n",
      "\n",
      " [[31822    19]\n",
      "  [   67     7]]]\n",
      "roc_auc:  0.5469989398336499\n",
      "              precision    recall  f1-score   support\n",
      "\n",
      "           0       1.00      1.00      1.00     31841\n",
      "           1       0.27      0.09      0.14        74\n",
      "\n",
      "    accuracy                           1.00     31915\n",
      "   macro avg       0.63      0.55      0.57     31915\n",
      "weighted avg       1.00      1.00      1.00     31915\n",
      "\n",
      "... Processing insult\n",
      "Test accuracy is 0.7343247062608957\n",
      "Confusion matrix [[[  767   847]\n",
      "  [  199 30102]]\n",
      "\n",
      " [[30102   199]\n",
      "  [  847   767]]]\n",
      "roc_auc:  0.7343247062608957\n",
      "              precision    recall  f1-score   support\n",
      "\n",
      "           0       0.97      0.99      0.98     30301\n",
      "           1       0.79      0.48      0.59      1614\n",
      "\n",
      "    accuracy                           0.97     31915\n",
      "   macro avg       0.88      0.73      0.79     31915\n",
      "weighted avg       0.96      0.97      0.96     31915\n",
      "\n",
      "... Processing identity_hate\n",
      "Test accuracy is 0.6198311872739355\n",
      "Confusion matrix [[[   71   223]\n",
      "  [   58 31563]]\n",
      "\n",
      " [[31563    58]\n",
      "  [  223    71]]]\n",
      "roc_auc:  0.6198311872739355\n",
      "              precision    recall  f1-score   support\n",
      "\n",
      "           0       0.99      1.00      1.00     31621\n",
      "           1       0.55      0.24      0.34       294\n",
      "\n",
      "    accuracy                           0.99     31915\n",
      "   macro avg       0.77      0.62      0.67     31915\n",
      "weighted avg       0.99      0.99      0.99     31915\n",
      "\n"
     ]
    }
   ],
   "source": [
    "# GRADIANT BOSSTING ALGORITHM\n",
    "GBC_pipeline = Pipeline([\n",
    "                ('tfidf', TfidfVectorizer(max_features=2000, min_df=5, max_df=0.7, use_idf ='TRUE')),\n",
    "                ('clf', OneVsRestClassifier(GradientBoostingClassifier(), n_jobs=1)),\n",
    "            ])\n",
    "for category in categories:\n",
    "    print('... Processing {}'.format(category))\n",
    "    # train the model using X_dtm & y\n",
    "    GBC_pipeline.fit(X_train, train[category])\n",
    "    # compute the testing accuracy\n",
    "    prediction = GBC_pipeline.predict(X_test)\n",
    "    print('Test accuracy is {}'.format(balanced_accuracy_score(test[category], prediction)))\n",
    "    print('Confusion matrix {}'.format(multilabel_confusion_matrix(test[category], prediction)))\n",
    "    print('roc_auc: ', roc_auc_score(test[category], prediction))\n",
    "    print(classification_report(test[category], prediction))\n",
    "   "
   ]
  },
  {
   "cell_type": "code",
   "execution_count": 66,
   "metadata": {},
   "outputs": [
    {
     "name": "stdout",
     "output_type": "stream",
     "text": [
      "... Processing toxic\n",
      "Test accuracy is 0.7820907800228916\n",
      "Confusion matrix [[[ 1745  1311]\n",
      "  [  197 28662]]\n",
      "\n",
      " [[28662   197]\n",
      "  [ 1311  1745]]]\n",
      "roc_auc:  0.7820907800228916\n",
      "              precision    recall  f1-score   support\n",
      "\n",
      "           0       0.96      0.99      0.97     28859\n",
      "           1       0.90      0.57      0.70      3056\n",
      "\n",
      "    accuracy                           0.95     31915\n",
      "   macro avg       0.93      0.78      0.84     31915\n",
      "weighted avg       0.95      0.95      0.95     31915\n",
      "\n",
      "... Processing severe_toxic\n",
      "Test accuracy is 0.6096107013496983\n",
      "Confusion matrix [[[   71   250]\n",
      "  [   62 31532]]\n",
      "\n",
      " [[31532    62]\n",
      "  [  250    71]]]\n",
      "roc_auc:  0.6096107013496983\n",
      "              precision    recall  f1-score   support\n",
      "\n",
      "           0       0.99      1.00      1.00     31594\n",
      "           1       0.53      0.22      0.31       321\n",
      "\n",
      "    accuracy                           0.99     31915\n",
      "   macro avg       0.76      0.61      0.65     31915\n",
      "weighted avg       0.99      0.99      0.99     31915\n",
      "\n",
      "... Processing obscene\n",
      "Test accuracy is 0.8417090630007916\n",
      "Confusion matrix [[[ 1182   533]\n",
      "  [  175 30025]]\n",
      "\n",
      " [[30025   175]\n",
      "  [  533  1182]]]\n",
      "roc_auc:  0.8417090630007916\n",
      "              precision    recall  f1-score   support\n",
      "\n",
      "           0       0.98      0.99      0.99     30200\n",
      "           1       0.87      0.69      0.77      1715\n",
      "\n",
      "    accuracy                           0.98     31915\n",
      "   macro avg       0.93      0.84      0.88     31915\n",
      "weighted avg       0.98      0.98      0.98     31915\n",
      "\n",
      "... Processing threat\n",
      "Test accuracy is 0.5402421830768931\n",
      "Confusion matrix [[[    6    68]\n",
      "  [   19 31822]]\n",
      "\n",
      " [[31822    19]\n",
      "  [   68     6]]]\n",
      "roc_auc:  0.5402421830768931\n",
      "              precision    recall  f1-score   support\n",
      "\n",
      "           0       1.00      1.00      1.00     31841\n",
      "           1       0.24      0.08      0.12        74\n",
      "\n",
      "    accuracy                           1.00     31915\n",
      "   macro avg       0.62      0.54      0.56     31915\n",
      "weighted avg       1.00      1.00      1.00     31915\n",
      "\n",
      "... Processing insult\n",
      "Test accuracy is 0.7686836272677109\n",
      "Confusion matrix [[[  881   733]\n",
      "  [  257 30044]]\n",
      "\n",
      " [[30044   257]\n",
      "  [  733   881]]]\n",
      "roc_auc:  0.768683627267711\n",
      "              precision    recall  f1-score   support\n",
      "\n",
      "           0       0.98      0.99      0.98     30301\n",
      "           1       0.77      0.55      0.64      1614\n",
      "\n",
      "    accuracy                           0.97     31915\n",
      "   macro avg       0.88      0.77      0.81     31915\n",
      "weighted avg       0.97      0.97      0.97     31915\n",
      "\n",
      "... Processing identity_hate\n",
      "Test accuracy is 0.6012976393239058\n",
      "Confusion matrix [[[   60   234]\n",
      "  [   47 31574]]\n",
      "\n",
      " [[31574    47]\n",
      "  [  234    60]]]\n",
      "roc_auc:  0.6012976393239058\n",
      "              precision    recall  f1-score   support\n",
      "\n",
      "           0       0.99      1.00      1.00     31621\n",
      "           1       0.56      0.20      0.30       294\n",
      "\n",
      "    accuracy                           0.99     31915\n",
      "   macro avg       0.78      0.60      0.65     31915\n",
      "weighted avg       0.99      0.99      0.99     31915\n",
      "\n"
     ]
    }
   ],
   "source": [
    "# GRADIANT BOSSTING ALGORITHM- HYPERPARAMETER TUNNING\n",
    "GBC_pipeline = Pipeline([\n",
    "                ('tfidf', TfidfVectorizer(max_features=2000, min_df=5, max_df=0.7,ngram_range = (1,2), use_idf ='TRUE')),\n",
    "                ('clf', OneVsRestClassifier(GradientBoostingClassifier(min_samples_split=500,\n",
    "                                                                       min_samples_leaf=50,max_depth=8\n",
    "                                                                       ,random_state=10), n_jobs=1)),\n",
    "            ])\n",
    "for category in categories:\n",
    "    print('... Processing {}'.format(category))\n",
    "    # train the model using X_dtm & y\n",
    "    GBC_pipeline.fit(X_train, train[category])\n",
    "    # compute the testing accuracy\n",
    "    prediction = GBC_pipeline.predict(X_test)\n",
    "    print('Test accuracy is {}'.format(balanced_accuracy_score(test[category], prediction)))\n",
    "    print('Confusion matrix {}'.format(multilabel_confusion_matrix(test[category], prediction)))\n",
    "    print('roc_auc: ', roc_auc_score(test[category], prediction))\n",
    "    print(classification_report(test[category], prediction))"
   ]
  },
  {
   "cell_type": "code",
   "execution_count": 62,
   "metadata": {},
   "outputs": [
    {
     "name": "stdout",
     "output_type": "stream",
     "text": [
      "... Processing toxic\n",
      "Test accuracy is 0.8206974606540666\n",
      "Confusion matrix [[[ 1987  1069]\n",
      "  [  254 28605]]\n",
      "\n",
      " [[28605   254]\n",
      "  [ 1069  1987]]]\n",
      "roc_auc:  0.8206974606540666\n",
      "              precision    recall  f1-score   support\n",
      "\n",
      "           0       0.96      0.99      0.98     28859\n",
      "           1       0.89      0.65      0.75      3056\n",
      "\n",
      "    accuracy                           0.96     31915\n",
      "   macro avg       0.93      0.82      0.86     31915\n",
      "weighted avg       0.96      0.96      0.96     31915\n",
      "\n",
      "... Processing severe_toxic\n",
      "Test accuracy is 0.6020757519912393\n",
      "Confusion matrix [[[   66   255]\n",
      "  [   46 31548]]\n",
      "\n",
      " [[31548    46]\n",
      "  [  255    66]]]\n",
      "roc_auc:  0.6020757519912393\n",
      "              precision    recall  f1-score   support\n",
      "\n",
      "           0       0.99      1.00      1.00     31594\n",
      "           1       0.59      0.21      0.30       321\n",
      "\n",
      "    accuracy                           0.99     31915\n",
      "   macro avg       0.79      0.60      0.65     31915\n",
      "weighted avg       0.99      0.99      0.99     31915\n",
      "\n",
      "... Processing obscene\n",
      "Test accuracy is 0.8340655107833105\n",
      "Confusion matrix [[[ 1153   562]\n",
      "  [  126 30074]]\n",
      "\n",
      " [[30074   126]\n",
      "  [  562  1153]]]\n",
      "roc_auc:  0.8340655107833106\n",
      "              precision    recall  f1-score   support\n",
      "\n",
      "           0       0.98      1.00      0.99     30200\n",
      "           1       0.90      0.67      0.77      1715\n",
      "\n",
      "    accuracy                           0.98     31915\n",
      "   macro avg       0.94      0.83      0.88     31915\n",
      "weighted avg       0.98      0.98      0.98     31915\n",
      "\n",
      "... Processing threat\n",
      "Test accuracy is 0.6011629150585214\n",
      "Confusion matrix [[[   15    59]\n",
      "  [   12 31829]]\n",
      "\n",
      " [[31829    12]\n",
      "  [   59    15]]]\n",
      "roc_auc:  0.6011629150585213\n",
      "              precision    recall  f1-score   support\n",
      "\n",
      "           0       1.00      1.00      1.00     31841\n",
      "           1       0.56      0.20      0.30        74\n",
      "\n",
      "    accuracy                           1.00     31915\n",
      "   macro avg       0.78      0.60      0.65     31915\n",
      "weighted avg       1.00      1.00      1.00     31915\n",
      "\n",
      "... Processing insult\n",
      "Test accuracy is 0.774201294349175\n",
      "Confusion matrix [[[  897   717]\n",
      "  [  223 30078]]\n",
      "\n",
      " [[30078   223]\n",
      "  [  717   897]]]\n",
      "roc_auc:  0.7742012943491748\n",
      "              precision    recall  f1-score   support\n",
      "\n",
      "           0       0.98      0.99      0.98     30301\n",
      "           1       0.80      0.56      0.66      1614\n",
      "\n",
      "    accuracy                           0.97     31915\n",
      "   macro avg       0.89      0.77      0.82     31915\n",
      "weighted avg       0.97      0.97      0.97     31915\n",
      "\n",
      "... Processing identity_hate\n",
      "Test accuracy is 0.6219746112922889\n",
      "Confusion matrix [[[   72   222]\n",
      "  [   30 31591]]\n",
      "\n",
      " [[31591    30]\n",
      "  [  222    72]]]\n",
      "roc_auc:  0.621974611292289\n",
      "              precision    recall  f1-score   support\n",
      "\n",
      "           0       0.99      1.00      1.00     31621\n",
      "           1       0.71      0.24      0.36       294\n",
      "\n",
      "    accuracy                           0.99     31915\n",
      "   macro avg       0.85      0.62      0.68     31915\n",
      "weighted avg       0.99      0.99      0.99     31915\n",
      "\n"
     ]
    }
   ],
   "source": [
    "#lINEAR SUPPORT VECTOR\n",
    "SVC_pipeline = Pipeline([\n",
    "                ('tfidf', TfidfVectorizer(max_features=2000, min_df=5, max_df=0.7, use_idf ='TRUE')),\n",
    "                ('clf', OneVsRestClassifier(LinearSVC(), n_jobs=1)),\n",
    "            ])\n",
    "for category in categories:\n",
    "    print('... Processing {}'.format(category))\n",
    "    # train the model using X_dtm & y\n",
    "    SVC_pipeline.fit(X_train, train[category])\n",
    "    # compute the testing accuracy\n",
    "    prediction = SVC_pipeline.predict(X_test)\n",
    "    print('Test accuracy is {}'.format(balanced_accuracy_score(test[category], prediction)))\n",
    "    print('Confusion matrix {}'.format(multilabel_confusion_matrix(test[category], prediction)))\n",
    "    print('roc_auc: ', roc_auc_score(test[category], prediction))\n",
    "    print(classification_report(test[category], prediction))"
   ]
  },
  {
   "cell_type": "code",
   "execution_count": 66,
   "metadata": {},
   "outputs": [
    {
     "name": "stdout",
     "output_type": "stream",
     "text": [
      "... Processing toxic\n"
     ]
    },
    {
     "name": "stderr",
     "output_type": "stream",
     "text": [
      "C:\\Users\\Anish\\Anaconda3\\lib\\site-packages\\sklearn\\svm\\base.py:929: ConvergenceWarning: Liblinear failed to converge, increase the number of iterations.\n",
      "  \"the number of iterations.\", ConvergenceWarning)\n"
     ]
    },
    {
     "name": "stdout",
     "output_type": "stream",
     "text": [
      "Test accuracy is 0.8522598036690034\n",
      "Confusion matrix [[[ 2257   799]\n",
      "  [  982 27877]]\n",
      "\n",
      " [[27877   982]\n",
      "  [  799  2257]]]\n",
      "roc_auc:  0.8522598036690034\n",
      "              precision    recall  f1-score   support\n",
      "\n",
      "           0       0.97      0.97      0.97     28859\n",
      "           1       0.70      0.74      0.72      3056\n",
      "\n",
      "    accuracy                           0.94     31915\n",
      "   macro avg       0.83      0.85      0.84     31915\n",
      "weighted avg       0.95      0.94      0.94     31915\n",
      "\n",
      "... Processing severe_toxic\n"
     ]
    },
    {
     "name": "stderr",
     "output_type": "stream",
     "text": [
      "C:\\Users\\Anish\\Anaconda3\\lib\\site-packages\\sklearn\\svm\\base.py:929: ConvergenceWarning: Liblinear failed to converge, increase the number of iterations.\n",
      "  \"the number of iterations.\", ConvergenceWarning)\n"
     ]
    },
    {
     "name": "stdout",
     "output_type": "stream",
     "text": [
      "Test accuracy is 0.6202450897159582\n",
      "Confusion matrix [[[   78   243]\n",
      "  [   79 31515]]\n",
      "\n",
      " [[31515    79]\n",
      "  [  243    78]]]\n",
      "roc_auc:  0.6202450897159582\n",
      "              precision    recall  f1-score   support\n",
      "\n",
      "           0       0.99      1.00      0.99     31594\n",
      "           1       0.50      0.24      0.33       321\n",
      "\n",
      "    accuracy                           0.99     31915\n",
      "   macro avg       0.74      0.62      0.66     31915\n",
      "weighted avg       0.99      0.99      0.99     31915\n",
      "\n",
      "... Processing obscene\n"
     ]
    },
    {
     "name": "stderr",
     "output_type": "stream",
     "text": [
      "C:\\Users\\Anish\\Anaconda3\\lib\\site-packages\\sklearn\\svm\\base.py:929: ConvergenceWarning: Liblinear failed to converge, increase the number of iterations.\n",
      "  \"the number of iterations.\", ConvergenceWarning)\n"
     ]
    },
    {
     "name": "stdout",
     "output_type": "stream",
     "text": [
      "Test accuracy is 0.7992585870677504\n",
      "Confusion matrix [[[ 1031   684]\n",
      "  [   80 30120]]\n",
      "\n",
      " [[30120    80]\n",
      "  [  684  1031]]]\n",
      "roc_auc:  0.7992585870677504\n",
      "              precision    recall  f1-score   support\n",
      "\n",
      "           0       0.98      1.00      0.99     30200\n",
      "           1       0.93      0.60      0.73      1715\n",
      "\n",
      "    accuracy                           0.98     31915\n",
      "   macro avg       0.95      0.80      0.86     31915\n",
      "weighted avg       0.98      0.98      0.97     31915\n",
      "\n",
      "... Processing threat\n"
     ]
    },
    {
     "name": "stderr",
     "output_type": "stream",
     "text": [
      "C:\\Users\\Anish\\Anaconda3\\lib\\site-packages\\sklearn\\svm\\base.py:929: ConvergenceWarning: Liblinear failed to converge, increase the number of iterations.\n",
      "  \"the number of iterations.\", ConvergenceWarning)\n"
     ]
    },
    {
     "name": "stdout",
     "output_type": "stream",
     "text": [
      "Test accuracy is 0.680061275747655\n",
      "Confusion matrix [[[   27    47]\n",
      "  [  151 31690]]\n",
      "\n",
      " [[31690   151]\n",
      "  [   47    27]]]\n",
      "roc_auc:  0.680061275747655\n",
      "              precision    recall  f1-score   support\n",
      "\n",
      "           0       1.00      1.00      1.00     31841\n",
      "           1       0.15      0.36      0.21        74\n",
      "\n",
      "    accuracy                           0.99     31915\n",
      "   macro avg       0.58      0.68      0.61     31915\n",
      "weighted avg       1.00      0.99      1.00     31915\n",
      "\n",
      "... Processing insult\n"
     ]
    },
    {
     "name": "stderr",
     "output_type": "stream",
     "text": [
      "C:\\Users\\Anish\\Anaconda3\\lib\\site-packages\\sklearn\\svm\\base.py:929: ConvergenceWarning: Liblinear failed to converge, increase the number of iterations.\n",
      "  \"the number of iterations.\", ConvergenceWarning)\n"
     ]
    },
    {
     "name": "stdout",
     "output_type": "stream",
     "text": [
      "Test accuracy is 0.7923350790153498\n",
      "Confusion matrix [[[  968   646]\n",
      "  [  457 29844]]\n",
      "\n",
      " [[29844   457]\n",
      "  [  646   968]]]\n",
      "roc_auc:  0.7923350790153497\n",
      "              precision    recall  f1-score   support\n",
      "\n",
      "           0       0.98      0.98      0.98     30301\n",
      "           1       0.68      0.60      0.64      1614\n",
      "\n",
      "    accuracy                           0.97     31915\n",
      "   macro avg       0.83      0.79      0.81     31915\n",
      "weighted avg       0.96      0.97      0.96     31915\n",
      "\n",
      "... Processing identity_hate\n"
     ]
    },
    {
     "name": "stderr",
     "output_type": "stream",
     "text": [
      "C:\\Users\\Anish\\Anaconda3\\lib\\site-packages\\sklearn\\svm\\base.py:929: ConvergenceWarning: Liblinear failed to converge, increase the number of iterations.\n",
      "  \"the number of iterations.\", ConvergenceWarning)\n"
     ]
    },
    {
     "name": "stdout",
     "output_type": "stream",
     "text": [
      "Test accuracy is 0.6030615687026211\n",
      "Confusion matrix [[[   61   233]\n",
      "  [   43 31578]]\n",
      "\n",
      " [[31578    43]\n",
      "  [  233    61]]]\n",
      "roc_auc:  0.603061568702621\n",
      "              precision    recall  f1-score   support\n",
      "\n",
      "           0       0.99      1.00      1.00     31621\n",
      "           1       0.59      0.21      0.31       294\n",
      "\n",
      "    accuracy                           0.99     31915\n",
      "   macro avg       0.79      0.60      0.65     31915\n",
      "weighted avg       0.99      0.99      0.99     31915\n",
      "\n"
     ]
    }
   ],
   "source": [
    "#lINEAR SUPPORT VECTOR - HYPERPARAMETER TUNNING\n",
    "SVC_pipeline = Pipeline([\n",
    "                ('tfidf', TfidfVectorizer(max_features=2000,ngram_range = (1,2), min_df=5, max_df=0.7, use_idf ='TRUE')),\n",
    "                ('clf', OneVsRestClassifier(LinearSVC(C=1000,random_state=10), n_jobs=1)),\n",
    "            ])\n",
    "for category in categories:\n",
    "    print('... Processing {}'.format(category))\n",
    "    # train the model using XTRAIN & yTRAIN\n",
    "    SVC_pipeline.fit(X_train, train[category])\n",
    "    # compute the testing accuracy\n",
    "    prediction = SVC_pipeline.predict(X_test)\n",
    "    print('Test accuracy is {}'.format(balanced_accuracy_score(test[category], prediction)))\n",
    "    print('Confusion matrix {}'.format(multilabel_confusion_matrix(test[category], prediction)))\n",
    "    print('roc_auc: ', roc_auc_score(test[category], prediction))\n",
    "    print(classification_report(test[category], prediction))"
   ]
  },
  {
   "cell_type": "code",
   "execution_count": 63,
   "metadata": {},
   "outputs": [
    {
     "name": "stdout",
     "output_type": "stream",
     "text": [
      "... Processing toxic\n",
      "Test accuracy is 0.8105824124298879\n",
      "Confusion matrix [[[ 1922  1134]\n",
      "  [  224 28635]]\n",
      "\n",
      " [[28635   224]\n",
      "  [ 1134  1922]]]\n",
      "roc_auc:  0.8105824124298879\n",
      "              precision    recall  f1-score   support\n",
      "\n",
      "           0       0.96      0.99      0.98     28859\n",
      "           1       0.90      0.63      0.74      3056\n",
      "\n",
      "    accuracy                           0.96     31915\n",
      "   macro avg       0.93      0.81      0.86     31915\n",
      "weighted avg       0.96      0.96      0.95     31915\n",
      "\n",
      "... Processing severe_toxic\n",
      "Test accuracy is 0.6329751873310067\n",
      "Confusion matrix [[[   86   235]\n",
      "  [   62 31532]]\n",
      "\n",
      " [[31532    62]\n",
      "  [  235    86]]]\n",
      "roc_auc:  0.6329751873310068\n",
      "              precision    recall  f1-score   support\n",
      "\n",
      "           0       0.99      1.00      1.00     31594\n",
      "           1       0.58      0.27      0.37       321\n",
      "\n",
      "    accuracy                           0.99     31915\n",
      "   macro avg       0.79      0.63      0.68     31915\n",
      "weighted avg       0.99      0.99      0.99     31915\n",
      "\n",
      "... Processing obscene\n",
      "Test accuracy is 0.8219530631552526\n",
      "Confusion matrix [[[ 1111   604]\n",
      "  [  118 30082]]\n",
      "\n",
      " [[30082   118]\n",
      "  [  604  1111]]]\n",
      "roc_auc:  0.8219530631552526\n",
      "              precision    recall  f1-score   support\n",
      "\n",
      "           0       0.98      1.00      0.99     30200\n",
      "           1       0.90      0.65      0.75      1715\n",
      "\n",
      "    accuracy                           0.98     31915\n",
      "   macro avg       0.94      0.82      0.87     31915\n",
      "weighted avg       0.98      0.98      0.98     31915\n",
      "\n",
      "... Processing threat\n",
      "Test accuracy is 0.5674576463967501\n",
      "Confusion matrix [[[   10    64]\n",
      "  [    7 31834]]\n",
      "\n",
      " [[31834     7]\n",
      "  [   64    10]]]\n",
      "roc_auc:  0.5674576463967501\n",
      "              precision    recall  f1-score   support\n",
      "\n",
      "           0       1.00      1.00      1.00     31841\n",
      "           1       0.59      0.14      0.22        74\n",
      "\n",
      "    accuracy                           1.00     31915\n",
      "   macro avg       0.79      0.57      0.61     31915\n",
      "weighted avg       1.00      1.00      1.00     31915\n",
      "\n",
      "... Processing insult\n",
      "Test accuracy is 0.765336642796703\n",
      "Confusion matrix [[[  867   747]\n",
      "  [  197 30104]]\n",
      "\n",
      " [[30104   197]\n",
      "  [  747   867]]]\n",
      "roc_auc:  0.765336642796703\n",
      "              precision    recall  f1-score   support\n",
      "\n",
      "           0       0.98      0.99      0.98     30301\n",
      "           1       0.81      0.54      0.65      1614\n",
      "\n",
      "    accuracy                           0.97     31915\n",
      "   macro avg       0.90      0.77      0.82     31915\n",
      "weighted avg       0.97      0.97      0.97     31915\n",
      "\n",
      "... Processing identity_hate\n",
      "Test accuracy is 0.5898356211653885\n",
      "Confusion matrix [[[   53   241]\n",
      "  [   19 31602]]\n",
      "\n",
      " [[31602    19]\n",
      "  [  241    53]]]\n",
      "roc_auc:  0.5898356211653886\n",
      "              precision    recall  f1-score   support\n",
      "\n",
      "           0       0.99      1.00      1.00     31621\n",
      "           1       0.74      0.18      0.29       294\n",
      "\n",
      "    accuracy                           0.99     31915\n",
      "   macro avg       0.86      0.59      0.64     31915\n",
      "weighted avg       0.99      0.99      0.99     31915\n",
      "\n"
     ]
    }
   ],
   "source": [
    "# LOGISTIC REGRESSIN \n",
    "LOG_pipeline = Pipeline([\n",
    "                ('tfidf', TfidfVectorizer(max_features=2000, min_df=5, max_df=0.7)),\n",
    "                ('clf', OneVsRestClassifier(LogisticRegression(solver='sag'), n_jobs=1)),\n",
    "            ])\n",
    "for category in categories:\n",
    "    print('... Processing {}'.format(category))\n",
    "    # train the model using X_dtm & y\n",
    "    LOG_pipeline.fit(X_train, train[category])\n",
    "    # compute the testing accuracy\n",
    "    prediction = LOG_pipeline.predict(X_test)\n",
    "    print('Test accuracy is {}'.format(balanced_accuracy_score(test[category], prediction)))\n",
    "    print('Confusion matrix {}'.format(multilabel_confusion_matrix(test[category], prediction)))\n",
    "    print('roc_auc: ', roc_auc_score(test[category], prediction))\n",
    "    print(classification_report(test[category], prediction))"
   ]
  },
  {
   "cell_type": "code",
   "execution_count": 67,
   "metadata": {},
   "outputs": [
    {
     "name": "stdout",
     "output_type": "stream",
     "text": [
      "... Processing toxic\n"
     ]
    },
    {
     "name": "stderr",
     "output_type": "stream",
     "text": [
      "C:\\Users\\Anish\\Anaconda3\\lib\\site-packages\\sklearn\\linear_model\\sag.py:337: ConvergenceWarning: The max_iter was reached which means the coef_ did not converge\n",
      "  \"the coef_ did not converge\", ConvergenceWarning)\n"
     ]
    },
    {
     "name": "stdout",
     "output_type": "stream",
     "text": [
      "Test accuracy is 0.8276652956902391\n",
      "Confusion matrix [[[ 2037  1019]\n",
      "  [  324 28535]]\n",
      "\n",
      " [[28535   324]\n",
      "  [ 1019  2037]]]\n",
      "roc_auc:  0.8276652956902391\n",
      "              precision    recall  f1-score   support\n",
      "\n",
      "           0       0.97      0.99      0.98     28859\n",
      "           1       0.86      0.67      0.75      3056\n",
      "\n",
      "    accuracy                           0.96     31915\n",
      "   macro avg       0.91      0.83      0.86     31915\n",
      "weighted avg       0.96      0.96      0.96     31915\n",
      "\n",
      "... Processing severe_toxic\n"
     ]
    },
    {
     "name": "stderr",
     "output_type": "stream",
     "text": [
      "C:\\Users\\Anish\\Anaconda3\\lib\\site-packages\\sklearn\\linear_model\\sag.py:337: ConvergenceWarning: The max_iter was reached which means the coef_ did not converge\n",
      "  \"the coef_ did not converge\", ConvergenceWarning)\n"
     ]
    },
    {
     "name": "stdout",
     "output_type": "stream",
     "text": [
      "Test accuracy is 0.6650207845371484\n",
      "Confusion matrix [[[  107   214]\n",
      "  [  104 31490]]\n",
      "\n",
      " [[31490   104]\n",
      "  [  214   107]]]\n",
      "roc_auc:  0.6650207845371483\n",
      "              precision    recall  f1-score   support\n",
      "\n",
      "           0       0.99      1.00      0.99     31594\n",
      "           1       0.51      0.33      0.40       321\n",
      "\n",
      "    accuracy                           0.99     31915\n",
      "   macro avg       0.75      0.67      0.70     31915\n",
      "weighted avg       0.99      0.99      0.99     31915\n",
      "\n",
      "... Processing obscene\n"
     ]
    },
    {
     "name": "stderr",
     "output_type": "stream",
     "text": [
      "C:\\Users\\Anish\\Anaconda3\\lib\\site-packages\\sklearn\\linear_model\\sag.py:337: ConvergenceWarning: The max_iter was reached which means the coef_ did not converge\n",
      "  \"the coef_ did not converge\", ConvergenceWarning)\n"
     ]
    },
    {
     "name": "stdout",
     "output_type": "stream",
     "text": [
      "Test accuracy is 0.8394594829417102\n",
      "Confusion matrix [[[ 1174   541]\n",
      "  [  170 30030]]\n",
      "\n",
      " [[30030   170]\n",
      "  [  541  1174]]]\n",
      "roc_auc:  0.8394594829417101\n",
      "              precision    recall  f1-score   support\n",
      "\n",
      "           0       0.98      0.99      0.99     30200\n",
      "           1       0.87      0.68      0.77      1715\n",
      "\n",
      "    accuracy                           0.98     31915\n",
      "   macro avg       0.93      0.84      0.88     31915\n",
      "weighted avg       0.98      0.98      0.98     31915\n",
      "\n",
      "... Processing threat\n"
     ]
    },
    {
     "name": "stderr",
     "output_type": "stream",
     "text": [
      "C:\\Users\\Anish\\Anaconda3\\lib\\site-packages\\sklearn\\linear_model\\sag.py:337: ConvergenceWarning: The max_iter was reached which means the coef_ did not converge\n",
      "  \"the coef_ did not converge\", ConvergenceWarning)\n"
     ]
    },
    {
     "name": "stdout",
     "output_type": "stream",
     "text": [
      "Test accuracy is 0.6413108799889994\n",
      "Confusion matrix [[[   21    53]\n",
      "  [   37 31804]]\n",
      "\n",
      " [[31804    37]\n",
      "  [   53    21]]]\n",
      "roc_auc:  0.6413108799889994\n",
      "              precision    recall  f1-score   support\n",
      "\n",
      "           0       1.00      1.00      1.00     31841\n",
      "           1       0.36      0.28      0.32        74\n",
      "\n",
      "    accuracy                           1.00     31915\n",
      "   macro avg       0.68      0.64      0.66     31915\n",
      "weighted avg       1.00      1.00      1.00     31915\n",
      "\n",
      "... Processing insult\n"
     ]
    },
    {
     "name": "stderr",
     "output_type": "stream",
     "text": [
      "C:\\Users\\Anish\\Anaconda3\\lib\\site-packages\\sklearn\\linear_model\\sag.py:337: ConvergenceWarning: The max_iter was reached which means the coef_ did not converge\n",
      "  \"the coef_ did not converge\", ConvergenceWarning)\n"
     ]
    },
    {
     "name": "stdout",
     "output_type": "stream",
     "text": [
      "Test accuracy is 0.7812567131588894\n",
      "Confusion matrix [[[  921   693]\n",
      "  [  246 30055]]\n",
      "\n",
      " [[30055   246]\n",
      "  [  693   921]]]\n",
      "roc_auc:  0.7812567131588894\n",
      "              precision    recall  f1-score   support\n",
      "\n",
      "           0       0.98      0.99      0.98     30301\n",
      "           1       0.79      0.57      0.66      1614\n",
      "\n",
      "    accuracy                           0.97     31915\n",
      "   macro avg       0.88      0.78      0.82     31915\n",
      "weighted avg       0.97      0.97      0.97     31915\n",
      "\n",
      "... Processing identity_hate\n"
     ]
    },
    {
     "name": "stderr",
     "output_type": "stream",
     "text": [
      "C:\\Users\\Anish\\Anaconda3\\lib\\site-packages\\sklearn\\linear_model\\sag.py:337: ConvergenceWarning: The max_iter was reached which means the coef_ did not converge\n",
      "  \"the coef_ did not converge\", ConvergenceWarning)\n"
     ]
    },
    {
     "name": "stdout",
     "output_type": "stream",
     "text": [
      "Test accuracy is 0.6599517736318777\n",
      "Confusion matrix [[[   95   199]\n",
      "  [  102 31519]]\n",
      "\n",
      " [[31519   102]\n",
      "  [  199    95]]]\n",
      "roc_auc:  0.6599517736318777\n",
      "              precision    recall  f1-score   support\n",
      "\n",
      "           0       0.99      1.00      1.00     31621\n",
      "           1       0.48      0.32      0.39       294\n",
      "\n",
      "    accuracy                           0.99     31915\n",
      "   macro avg       0.74      0.66      0.69     31915\n",
      "weighted avg       0.99      0.99      0.99     31915\n",
      "\n"
     ]
    }
   ],
   "source": [
    "# LOGISTIC REGRESSIN - HYPERPARAMETER TUNNING \n",
    "LOG_pipeline = Pipeline([\n",
    "                ('tfidf', TfidfVectorizer(max_features=2000,ngram_range=(1,2), min_df=5, max_df=0.7)),\n",
    "                ('clf', OneVsRestClassifier(LogisticRegression(C=1000, solver='sag',random_state=32,multi_class='ovr'), n_jobs=1)),\n",
    "            ])\n",
    "for category in categories:\n",
    "    print('... Processing {}'.format(category))\n",
    "    # train the model using X_dtm & y\n",
    "    LOG_pipeline.fit(X_train, train[category])\n",
    "    # compute the testing accuracy\n",
    "    prediction = LOG_pipeline.predict(X_test)\n",
    "    print('Test accuracy is {}'.format(balanced_accuracy_score(test[category], prediction)))\n",
    "    print('Confusion matrix {}'.format(multilabel_confusion_matrix(test[category], prediction)))\n",
    "    print('roc_auc: ', roc_auc_score(test[category], prediction))\n",
    "    print(classification_report(test[category], prediction))"
   ]
  },
  {
   "cell_type": "code",
   "execution_count": 64,
   "metadata": {},
   "outputs": [
    {
     "name": "stdout",
     "output_type": "stream",
     "text": [
      "... Processing toxic\n"
     ]
    },
    {
     "name": "stderr",
     "output_type": "stream",
     "text": [
      "C:\\Users\\Anish\\Anaconda3\\lib\\site-packages\\sklearn\\linear_model\\logistic.py:947: ConvergenceWarning: lbfgs failed to converge. Increase the number of iterations.\n",
      "  \"of iterations.\", ConvergenceWarning)\n",
      "C:\\Users\\Anish\\Anaconda3\\lib\\site-packages\\sklearn\\linear_model\\logistic.py:947: ConvergenceWarning: lbfgs failed to converge. Increase the number of iterations.\n",
      "  \"of iterations.\", ConvergenceWarning)\n",
      "C:\\Users\\Anish\\Anaconda3\\lib\\site-packages\\sklearn\\linear_model\\logistic.py:947: ConvergenceWarning: lbfgs failed to converge. Increase the number of iterations.\n",
      "  \"of iterations.\", ConvergenceWarning)\n",
      "C:\\Users\\Anish\\Anaconda3\\lib\\site-packages\\sklearn\\linear_model\\logistic.py:947: ConvergenceWarning: lbfgs failed to converge. Increase the number of iterations.\n",
      "  \"of iterations.\", ConvergenceWarning)\n",
      "C:\\Users\\Anish\\Anaconda3\\lib\\site-packages\\sklearn\\linear_model\\logistic.py:947: ConvergenceWarning: lbfgs failed to converge. Increase the number of iterations.\n",
      "  \"of iterations.\", ConvergenceWarning)\n",
      "C:\\Users\\Anish\\Anaconda3\\lib\\site-packages\\sklearn\\linear_model\\logistic.py:947: ConvergenceWarning: lbfgs failed to converge. Increase the number of iterations.\n",
      "  \"of iterations.\", ConvergenceWarning)\n",
      "C:\\Users\\Anish\\Anaconda3\\lib\\site-packages\\sklearn\\linear_model\\logistic.py:947: ConvergenceWarning: lbfgs failed to converge. Increase the number of iterations.\n",
      "  \"of iterations.\", ConvergenceWarning)\n",
      "C:\\Users\\Anish\\Anaconda3\\lib\\site-packages\\sklearn\\linear_model\\logistic.py:947: ConvergenceWarning: lbfgs failed to converge. Increase the number of iterations.\n",
      "  \"of iterations.\", ConvergenceWarning)\n",
      "C:\\Users\\Anish\\Anaconda3\\lib\\site-packages\\sklearn\\linear_model\\logistic.py:947: ConvergenceWarning: lbfgs failed to converge. Increase the number of iterations.\n",
      "  \"of iterations.\", ConvergenceWarning)\n",
      "C:\\Users\\Anish\\Anaconda3\\lib\\site-packages\\sklearn\\linear_model\\logistic.py:947: ConvergenceWarning: lbfgs failed to converge. Increase the number of iterations.\n",
      "  \"of iterations.\", ConvergenceWarning)\n",
      "C:\\Users\\Anish\\Anaconda3\\lib\\site-packages\\sklearn\\linear_model\\logistic.py:947: ConvergenceWarning: lbfgs failed to converge. Increase the number of iterations.\n",
      "  \"of iterations.\", ConvergenceWarning)\n",
      "C:\\Users\\Anish\\Anaconda3\\lib\\site-packages\\sklearn\\linear_model\\logistic.py:947: ConvergenceWarning: lbfgs failed to converge. Increase the number of iterations.\n",
      "  \"of iterations.\", ConvergenceWarning)\n",
      "C:\\Users\\Anish\\Anaconda3\\lib\\site-packages\\sklearn\\linear_model\\logistic.py:947: ConvergenceWarning: lbfgs failed to converge. Increase the number of iterations.\n",
      "  \"of iterations.\", ConvergenceWarning)\n",
      "C:\\Users\\Anish\\Anaconda3\\lib\\site-packages\\sklearn\\linear_model\\logistic.py:947: ConvergenceWarning: lbfgs failed to converge. Increase the number of iterations.\n",
      "  \"of iterations.\", ConvergenceWarning)\n",
      "C:\\Users\\Anish\\Anaconda3\\lib\\site-packages\\sklearn\\linear_model\\logistic.py:947: ConvergenceWarning: lbfgs failed to converge. Increase the number of iterations.\n",
      "  \"of iterations.\", ConvergenceWarning)\n",
      "C:\\Users\\Anish\\Anaconda3\\lib\\site-packages\\sklearn\\linear_model\\logistic.py:947: ConvergenceWarning: lbfgs failed to converge. Increase the number of iterations.\n",
      "  \"of iterations.\", ConvergenceWarning)\n",
      "C:\\Users\\Anish\\Anaconda3\\lib\\site-packages\\sklearn\\linear_model\\logistic.py:947: ConvergenceWarning: lbfgs failed to converge. Increase the number of iterations.\n",
      "  \"of iterations.\", ConvergenceWarning)\n",
      "C:\\Users\\Anish\\Anaconda3\\lib\\site-packages\\sklearn\\linear_model\\logistic.py:947: ConvergenceWarning: lbfgs failed to converge. Increase the number of iterations.\n",
      "  \"of iterations.\", ConvergenceWarning)\n",
      "C:\\Users\\Anish\\Anaconda3\\lib\\site-packages\\sklearn\\linear_model\\logistic.py:947: ConvergenceWarning: lbfgs failed to converge. Increase the number of iterations.\n",
      "  \"of iterations.\", ConvergenceWarning)\n"
     ]
    },
    {
     "name": "stdout",
     "output_type": "stream",
     "text": [
      "Test accuracy is 0.8210400497979978\n",
      "Confusion matrix [[[ 1991  1065]\n",
      "  [  272 28587]]\n",
      "\n",
      " [[28587   272]\n",
      "  [ 1065  1991]]]\n",
      "roc_auc:  0.8210400497979978\n",
      "              precision    recall  f1-score   support\n",
      "\n",
      "           0       0.96      0.99      0.98     28859\n",
      "           1       0.88      0.65      0.75      3056\n",
      "\n",
      "    accuracy                           0.96     31915\n",
      "   macro avg       0.92      0.82      0.86     31915\n",
      "weighted avg       0.96      0.96      0.96     31915\n",
      "\n",
      "... Processing severe_toxic\n"
     ]
    },
    {
     "name": "stderr",
     "output_type": "stream",
     "text": [
      "C:\\Users\\Anish\\Anaconda3\\lib\\site-packages\\sklearn\\linear_model\\logistic.py:947: ConvergenceWarning: lbfgs failed to converge. Increase the number of iterations.\n",
      "  \"of iterations.\", ConvergenceWarning)\n",
      "C:\\Users\\Anish\\Anaconda3\\lib\\site-packages\\sklearn\\linear_model\\logistic.py:947: ConvergenceWarning: lbfgs failed to converge. Increase the number of iterations.\n",
      "  \"of iterations.\", ConvergenceWarning)\n",
      "C:\\Users\\Anish\\Anaconda3\\lib\\site-packages\\sklearn\\linear_model\\logistic.py:947: ConvergenceWarning: lbfgs failed to converge. Increase the number of iterations.\n",
      "  \"of iterations.\", ConvergenceWarning)\n",
      "C:\\Users\\Anish\\Anaconda3\\lib\\site-packages\\sklearn\\linear_model\\logistic.py:947: ConvergenceWarning: lbfgs failed to converge. Increase the number of iterations.\n",
      "  \"of iterations.\", ConvergenceWarning)\n",
      "C:\\Users\\Anish\\Anaconda3\\lib\\site-packages\\sklearn\\linear_model\\logistic.py:947: ConvergenceWarning: lbfgs failed to converge. Increase the number of iterations.\n",
      "  \"of iterations.\", ConvergenceWarning)\n",
      "C:\\Users\\Anish\\Anaconda3\\lib\\site-packages\\sklearn\\linear_model\\logistic.py:947: ConvergenceWarning: lbfgs failed to converge. Increase the number of iterations.\n",
      "  \"of iterations.\", ConvergenceWarning)\n",
      "C:\\Users\\Anish\\Anaconda3\\lib\\site-packages\\sklearn\\linear_model\\logistic.py:947: ConvergenceWarning: lbfgs failed to converge. Increase the number of iterations.\n",
      "  \"of iterations.\", ConvergenceWarning)\n",
      "C:\\Users\\Anish\\Anaconda3\\lib\\site-packages\\sklearn\\linear_model\\logistic.py:947: ConvergenceWarning: lbfgs failed to converge. Increase the number of iterations.\n",
      "  \"of iterations.\", ConvergenceWarning)\n",
      "C:\\Users\\Anish\\Anaconda3\\lib\\site-packages\\sklearn\\linear_model\\logistic.py:947: ConvergenceWarning: lbfgs failed to converge. Increase the number of iterations.\n",
      "  \"of iterations.\", ConvergenceWarning)\n",
      "C:\\Users\\Anish\\Anaconda3\\lib\\site-packages\\sklearn\\linear_model\\logistic.py:947: ConvergenceWarning: lbfgs failed to converge. Increase the number of iterations.\n",
      "  \"of iterations.\", ConvergenceWarning)\n",
      "C:\\Users\\Anish\\Anaconda3\\lib\\site-packages\\sklearn\\linear_model\\logistic.py:947: ConvergenceWarning: lbfgs failed to converge. Increase the number of iterations.\n",
      "  \"of iterations.\", ConvergenceWarning)\n",
      "C:\\Users\\Anish\\Anaconda3\\lib\\site-packages\\sklearn\\linear_model\\logistic.py:947: ConvergenceWarning: lbfgs failed to converge. Increase the number of iterations.\n",
      "  \"of iterations.\", ConvergenceWarning)\n",
      "C:\\Users\\Anish\\Anaconda3\\lib\\site-packages\\sklearn\\linear_model\\logistic.py:947: ConvergenceWarning: lbfgs failed to converge. Increase the number of iterations.\n",
      "  \"of iterations.\", ConvergenceWarning)\n",
      "C:\\Users\\Anish\\Anaconda3\\lib\\site-packages\\sklearn\\linear_model\\logistic.py:947: ConvergenceWarning: lbfgs failed to converge. Increase the number of iterations.\n",
      "  \"of iterations.\", ConvergenceWarning)\n",
      "C:\\Users\\Anish\\Anaconda3\\lib\\site-packages\\sklearn\\linear_model\\logistic.py:947: ConvergenceWarning: lbfgs failed to converge. Increase the number of iterations.\n",
      "  \"of iterations.\", ConvergenceWarning)\n",
      "C:\\Users\\Anish\\Anaconda3\\lib\\site-packages\\sklearn\\linear_model\\logistic.py:947: ConvergenceWarning: lbfgs failed to converge. Increase the number of iterations.\n",
      "  \"of iterations.\", ConvergenceWarning)\n",
      "C:\\Users\\Anish\\Anaconda3\\lib\\site-packages\\sklearn\\linear_model\\logistic.py:947: ConvergenceWarning: lbfgs failed to converge. Increase the number of iterations.\n",
      "  \"of iterations.\", ConvergenceWarning)\n",
      "C:\\Users\\Anish\\Anaconda3\\lib\\site-packages\\sklearn\\linear_model\\logistic.py:947: ConvergenceWarning: lbfgs failed to converge. Increase the number of iterations.\n",
      "  \"of iterations.\", ConvergenceWarning)\n",
      "C:\\Users\\Anish\\Anaconda3\\lib\\site-packages\\sklearn\\linear_model\\logistic.py:947: ConvergenceWarning: lbfgs failed to converge. Increase the number of iterations.\n",
      "  \"of iterations.\", ConvergenceWarning)\n",
      "C:\\Users\\Anish\\Anaconda3\\lib\\site-packages\\sklearn\\linear_model\\logistic.py:947: ConvergenceWarning: lbfgs failed to converge. Increase the number of iterations.\n",
      "  \"of iterations.\", ConvergenceWarning)\n"
     ]
    },
    {
     "name": "stdout",
     "output_type": "stream",
     "text": [
      "Test accuracy is 0.6082429784274272\n",
      "Confusion matrix [[[   70   251]\n",
      "  [   50 31544]]\n",
      "\n",
      " [[31544    50]\n",
      "  [  251    70]]]\n",
      "roc_auc:  0.6082429784274272\n",
      "              precision    recall  f1-score   support\n",
      "\n",
      "           0       0.99      1.00      1.00     31594\n",
      "           1       0.58      0.22      0.32       321\n",
      "\n",
      "    accuracy                           0.99     31915\n",
      "   macro avg       0.79      0.61      0.66     31915\n",
      "weighted avg       0.99      0.99      0.99     31915\n",
      "\n",
      "... Processing obscene\n"
     ]
    },
    {
     "name": "stderr",
     "output_type": "stream",
     "text": [
      "C:\\Users\\Anish\\Anaconda3\\lib\\site-packages\\sklearn\\linear_model\\logistic.py:947: ConvergenceWarning: lbfgs failed to converge. Increase the number of iterations.\n",
      "  \"of iterations.\", ConvergenceWarning)\n",
      "C:\\Users\\Anish\\Anaconda3\\lib\\site-packages\\sklearn\\linear_model\\logistic.py:947: ConvergenceWarning: lbfgs failed to converge. Increase the number of iterations.\n",
      "  \"of iterations.\", ConvergenceWarning)\n",
      "C:\\Users\\Anish\\Anaconda3\\lib\\site-packages\\sklearn\\linear_model\\logistic.py:947: ConvergenceWarning: lbfgs failed to converge. Increase the number of iterations.\n",
      "  \"of iterations.\", ConvergenceWarning)\n",
      "C:\\Users\\Anish\\Anaconda3\\lib\\site-packages\\sklearn\\linear_model\\logistic.py:947: ConvergenceWarning: lbfgs failed to converge. Increase the number of iterations.\n",
      "  \"of iterations.\", ConvergenceWarning)\n",
      "C:\\Users\\Anish\\Anaconda3\\lib\\site-packages\\sklearn\\linear_model\\logistic.py:947: ConvergenceWarning: lbfgs failed to converge. Increase the number of iterations.\n",
      "  \"of iterations.\", ConvergenceWarning)\n",
      "C:\\Users\\Anish\\Anaconda3\\lib\\site-packages\\sklearn\\linear_model\\logistic.py:947: ConvergenceWarning: lbfgs failed to converge. Increase the number of iterations.\n",
      "  \"of iterations.\", ConvergenceWarning)\n",
      "C:\\Users\\Anish\\Anaconda3\\lib\\site-packages\\sklearn\\linear_model\\logistic.py:947: ConvergenceWarning: lbfgs failed to converge. Increase the number of iterations.\n",
      "  \"of iterations.\", ConvergenceWarning)\n",
      "C:\\Users\\Anish\\Anaconda3\\lib\\site-packages\\sklearn\\linear_model\\logistic.py:947: ConvergenceWarning: lbfgs failed to converge. Increase the number of iterations.\n",
      "  \"of iterations.\", ConvergenceWarning)\n",
      "C:\\Users\\Anish\\Anaconda3\\lib\\site-packages\\sklearn\\linear_model\\logistic.py:947: ConvergenceWarning: lbfgs failed to converge. Increase the number of iterations.\n",
      "  \"of iterations.\", ConvergenceWarning)\n",
      "C:\\Users\\Anish\\Anaconda3\\lib\\site-packages\\sklearn\\linear_model\\logistic.py:947: ConvergenceWarning: lbfgs failed to converge. Increase the number of iterations.\n",
      "  \"of iterations.\", ConvergenceWarning)\n",
      "C:\\Users\\Anish\\Anaconda3\\lib\\site-packages\\sklearn\\linear_model\\logistic.py:947: ConvergenceWarning: lbfgs failed to converge. Increase the number of iterations.\n",
      "  \"of iterations.\", ConvergenceWarning)\n",
      "C:\\Users\\Anish\\Anaconda3\\lib\\site-packages\\sklearn\\linear_model\\logistic.py:947: ConvergenceWarning: lbfgs failed to converge. Increase the number of iterations.\n",
      "  \"of iterations.\", ConvergenceWarning)\n",
      "C:\\Users\\Anish\\Anaconda3\\lib\\site-packages\\sklearn\\linear_model\\logistic.py:947: ConvergenceWarning: lbfgs failed to converge. Increase the number of iterations.\n",
      "  \"of iterations.\", ConvergenceWarning)\n",
      "C:\\Users\\Anish\\Anaconda3\\lib\\site-packages\\sklearn\\linear_model\\logistic.py:947: ConvergenceWarning: lbfgs failed to converge. Increase the number of iterations.\n",
      "  \"of iterations.\", ConvergenceWarning)\n",
      "C:\\Users\\Anish\\Anaconda3\\lib\\site-packages\\sklearn\\linear_model\\logistic.py:947: ConvergenceWarning: lbfgs failed to converge. Increase the number of iterations.\n",
      "  \"of iterations.\", ConvergenceWarning)\n",
      "C:\\Users\\Anish\\Anaconda3\\lib\\site-packages\\sklearn\\linear_model\\logistic.py:947: ConvergenceWarning: lbfgs failed to converge. Increase the number of iterations.\n",
      "  \"of iterations.\", ConvergenceWarning)\n",
      "C:\\Users\\Anish\\Anaconda3\\lib\\site-packages\\sklearn\\linear_model\\logistic.py:947: ConvergenceWarning: lbfgs failed to converge. Increase the number of iterations.\n",
      "  \"of iterations.\", ConvergenceWarning)\n",
      "C:\\Users\\Anish\\Anaconda3\\lib\\site-packages\\sklearn\\linear_model\\logistic.py:947: ConvergenceWarning: lbfgs failed to converge. Increase the number of iterations.\n",
      "  \"of iterations.\", ConvergenceWarning)\n",
      "C:\\Users\\Anish\\Anaconda3\\lib\\site-packages\\sklearn\\linear_model\\logistic.py:947: ConvergenceWarning: lbfgs failed to converge. Increase the number of iterations.\n",
      "  \"of iterations.\", ConvergenceWarning)\n",
      "C:\\Users\\Anish\\Anaconda3\\lib\\site-packages\\sklearn\\linear_model\\logistic.py:947: ConvergenceWarning: lbfgs failed to converge. Increase the number of iterations.\n",
      "  \"of iterations.\", ConvergenceWarning)\n"
     ]
    },
    {
     "name": "stdout",
     "output_type": "stream",
     "text": [
      "Test accuracy is 0.8367657308902747\n",
      "Confusion matrix [[[ 1163   552]\n",
      "  [  139 30061]]\n",
      "\n",
      " [[30061   139]\n",
      "  [  552  1163]]]\n",
      "roc_auc:  0.8367657308902746\n",
      "              precision    recall  f1-score   support\n",
      "\n",
      "           0       0.98      1.00      0.99     30200\n",
      "           1       0.89      0.68      0.77      1715\n",
      "\n",
      "    accuracy                           0.98     31915\n",
      "   macro avg       0.94      0.84      0.88     31915\n",
      "weighted avg       0.98      0.98      0.98     31915\n",
      "\n",
      "... Processing threat\n"
     ]
    },
    {
     "name": "stderr",
     "output_type": "stream",
     "text": [
      "C:\\Users\\Anish\\Anaconda3\\lib\\site-packages\\sklearn\\linear_model\\logistic.py:947: ConvergenceWarning: lbfgs failed to converge. Increase the number of iterations.\n",
      "  \"of iterations.\", ConvergenceWarning)\n",
      "C:\\Users\\Anish\\Anaconda3\\lib\\site-packages\\sklearn\\linear_model\\logistic.py:947: ConvergenceWarning: lbfgs failed to converge. Increase the number of iterations.\n",
      "  \"of iterations.\", ConvergenceWarning)\n",
      "C:\\Users\\Anish\\Anaconda3\\lib\\site-packages\\sklearn\\linear_model\\logistic.py:947: ConvergenceWarning: lbfgs failed to converge. Increase the number of iterations.\n",
      "  \"of iterations.\", ConvergenceWarning)\n",
      "C:\\Users\\Anish\\Anaconda3\\lib\\site-packages\\sklearn\\linear_model\\logistic.py:947: ConvergenceWarning: lbfgs failed to converge. Increase the number of iterations.\n",
      "  \"of iterations.\", ConvergenceWarning)\n",
      "C:\\Users\\Anish\\Anaconda3\\lib\\site-packages\\sklearn\\linear_model\\logistic.py:947: ConvergenceWarning: lbfgs failed to converge. Increase the number of iterations.\n",
      "  \"of iterations.\", ConvergenceWarning)\n",
      "C:\\Users\\Anish\\Anaconda3\\lib\\site-packages\\sklearn\\linear_model\\logistic.py:947: ConvergenceWarning: lbfgs failed to converge. Increase the number of iterations.\n",
      "  \"of iterations.\", ConvergenceWarning)\n",
      "C:\\Users\\Anish\\Anaconda3\\lib\\site-packages\\sklearn\\linear_model\\logistic.py:947: ConvergenceWarning: lbfgs failed to converge. Increase the number of iterations.\n",
      "  \"of iterations.\", ConvergenceWarning)\n",
      "C:\\Users\\Anish\\Anaconda3\\lib\\site-packages\\sklearn\\linear_model\\logistic.py:947: ConvergenceWarning: lbfgs failed to converge. Increase the number of iterations.\n",
      "  \"of iterations.\", ConvergenceWarning)\n",
      "C:\\Users\\Anish\\Anaconda3\\lib\\site-packages\\sklearn\\linear_model\\logistic.py:947: ConvergenceWarning: lbfgs failed to converge. Increase the number of iterations.\n",
      "  \"of iterations.\", ConvergenceWarning)\n",
      "C:\\Users\\Anish\\Anaconda3\\lib\\site-packages\\sklearn\\linear_model\\logistic.py:947: ConvergenceWarning: lbfgs failed to converge. Increase the number of iterations.\n",
      "  \"of iterations.\", ConvergenceWarning)\n",
      "C:\\Users\\Anish\\Anaconda3\\lib\\site-packages\\sklearn\\linear_model\\logistic.py:947: ConvergenceWarning: lbfgs failed to converge. Increase the number of iterations.\n",
      "  \"of iterations.\", ConvergenceWarning)\n",
      "C:\\Users\\Anish\\Anaconda3\\lib\\site-packages\\sklearn\\linear_model\\logistic.py:947: ConvergenceWarning: lbfgs failed to converge. Increase the number of iterations.\n",
      "  \"of iterations.\", ConvergenceWarning)\n",
      "C:\\Users\\Anish\\Anaconda3\\lib\\site-packages\\sklearn\\linear_model\\logistic.py:947: ConvergenceWarning: lbfgs failed to converge. Increase the number of iterations.\n",
      "  \"of iterations.\", ConvergenceWarning)\n",
      "C:\\Users\\Anish\\Anaconda3\\lib\\site-packages\\sklearn\\linear_model\\logistic.py:947: ConvergenceWarning: lbfgs failed to converge. Increase the number of iterations.\n",
      "  \"of iterations.\", ConvergenceWarning)\n",
      "C:\\Users\\Anish\\Anaconda3\\lib\\site-packages\\sklearn\\linear_model\\logistic.py:947: ConvergenceWarning: lbfgs failed to converge. Increase the number of iterations.\n",
      "  \"of iterations.\", ConvergenceWarning)\n",
      "C:\\Users\\Anish\\Anaconda3\\lib\\site-packages\\sklearn\\linear_model\\logistic.py:947: ConvergenceWarning: lbfgs failed to converge. Increase the number of iterations.\n",
      "  \"of iterations.\", ConvergenceWarning)\n",
      "C:\\Users\\Anish\\Anaconda3\\lib\\site-packages\\sklearn\\linear_model\\logistic.py:947: ConvergenceWarning: lbfgs failed to converge. Increase the number of iterations.\n",
      "  \"of iterations.\", ConvergenceWarning)\n"
     ]
    },
    {
     "name": "stdout",
     "output_type": "stream",
     "text": [
      "Test accuracy is 0.5944061583017646\n",
      "Confusion matrix [[[   14    60]\n",
      "  [   12 31829]]\n",
      "\n",
      " [[31829    12]\n",
      "  [   60    14]]]\n",
      "roc_auc:  0.5944061583017646\n",
      "              precision    recall  f1-score   support\n",
      "\n",
      "           0       1.00      1.00      1.00     31841\n",
      "           1       0.54      0.19      0.28        74\n",
      "\n",
      "    accuracy                           1.00     31915\n",
      "   macro avg       0.77      0.59      0.64     31915\n",
      "weighted avg       1.00      1.00      1.00     31915\n",
      "\n",
      "... Processing insult\n"
     ]
    },
    {
     "name": "stderr",
     "output_type": "stream",
     "text": [
      "C:\\Users\\Anish\\Anaconda3\\lib\\site-packages\\sklearn\\linear_model\\logistic.py:947: ConvergenceWarning: lbfgs failed to converge. Increase the number of iterations.\n",
      "  \"of iterations.\", ConvergenceWarning)\n",
      "C:\\Users\\Anish\\Anaconda3\\lib\\site-packages\\sklearn\\linear_model\\logistic.py:947: ConvergenceWarning: lbfgs failed to converge. Increase the number of iterations.\n",
      "  \"of iterations.\", ConvergenceWarning)\n",
      "C:\\Users\\Anish\\Anaconda3\\lib\\site-packages\\sklearn\\linear_model\\logistic.py:947: ConvergenceWarning: lbfgs failed to converge. Increase the number of iterations.\n",
      "  \"of iterations.\", ConvergenceWarning)\n",
      "C:\\Users\\Anish\\Anaconda3\\lib\\site-packages\\sklearn\\linear_model\\logistic.py:947: ConvergenceWarning: lbfgs failed to converge. Increase the number of iterations.\n",
      "  \"of iterations.\", ConvergenceWarning)\n",
      "C:\\Users\\Anish\\Anaconda3\\lib\\site-packages\\sklearn\\linear_model\\logistic.py:947: ConvergenceWarning: lbfgs failed to converge. Increase the number of iterations.\n",
      "  \"of iterations.\", ConvergenceWarning)\n",
      "C:\\Users\\Anish\\Anaconda3\\lib\\site-packages\\sklearn\\linear_model\\logistic.py:947: ConvergenceWarning: lbfgs failed to converge. Increase the number of iterations.\n",
      "  \"of iterations.\", ConvergenceWarning)\n",
      "C:\\Users\\Anish\\Anaconda3\\lib\\site-packages\\sklearn\\linear_model\\logistic.py:947: ConvergenceWarning: lbfgs failed to converge. Increase the number of iterations.\n",
      "  \"of iterations.\", ConvergenceWarning)\n",
      "C:\\Users\\Anish\\Anaconda3\\lib\\site-packages\\sklearn\\linear_model\\logistic.py:947: ConvergenceWarning: lbfgs failed to converge. Increase the number of iterations.\n",
      "  \"of iterations.\", ConvergenceWarning)\n",
      "C:\\Users\\Anish\\Anaconda3\\lib\\site-packages\\sklearn\\linear_model\\logistic.py:947: ConvergenceWarning: lbfgs failed to converge. Increase the number of iterations.\n",
      "  \"of iterations.\", ConvergenceWarning)\n",
      "C:\\Users\\Anish\\Anaconda3\\lib\\site-packages\\sklearn\\linear_model\\logistic.py:947: ConvergenceWarning: lbfgs failed to converge. Increase the number of iterations.\n",
      "  \"of iterations.\", ConvergenceWarning)\n",
      "C:\\Users\\Anish\\Anaconda3\\lib\\site-packages\\sklearn\\linear_model\\logistic.py:947: ConvergenceWarning: lbfgs failed to converge. Increase the number of iterations.\n",
      "  \"of iterations.\", ConvergenceWarning)\n",
      "C:\\Users\\Anish\\Anaconda3\\lib\\site-packages\\sklearn\\linear_model\\logistic.py:947: ConvergenceWarning: lbfgs failed to converge. Increase the number of iterations.\n",
      "  \"of iterations.\", ConvergenceWarning)\n",
      "C:\\Users\\Anish\\Anaconda3\\lib\\site-packages\\sklearn\\linear_model\\logistic.py:947: ConvergenceWarning: lbfgs failed to converge. Increase the number of iterations.\n",
      "  \"of iterations.\", ConvergenceWarning)\n",
      "C:\\Users\\Anish\\Anaconda3\\lib\\site-packages\\sklearn\\linear_model\\logistic.py:947: ConvergenceWarning: lbfgs failed to converge. Increase the number of iterations.\n",
      "  \"of iterations.\", ConvergenceWarning)\n",
      "C:\\Users\\Anish\\Anaconda3\\lib\\site-packages\\sklearn\\linear_model\\logistic.py:947: ConvergenceWarning: lbfgs failed to converge. Increase the number of iterations.\n",
      "  \"of iterations.\", ConvergenceWarning)\n",
      "C:\\Users\\Anish\\Anaconda3\\lib\\site-packages\\sklearn\\linear_model\\logistic.py:947: ConvergenceWarning: lbfgs failed to converge. Increase the number of iterations.\n",
      "  \"of iterations.\", ConvergenceWarning)\n",
      "C:\\Users\\Anish\\Anaconda3\\lib\\site-packages\\sklearn\\linear_model\\logistic.py:947: ConvergenceWarning: lbfgs failed to converge. Increase the number of iterations.\n",
      "  \"of iterations.\", ConvergenceWarning)\n",
      "C:\\Users\\Anish\\Anaconda3\\lib\\site-packages\\sklearn\\linear_model\\logistic.py:947: ConvergenceWarning: lbfgs failed to converge. Increase the number of iterations.\n",
      "  \"of iterations.\", ConvergenceWarning)\n",
      "C:\\Users\\Anish\\Anaconda3\\lib\\site-packages\\sklearn\\linear_model\\logistic.py:947: ConvergenceWarning: lbfgs failed to converge. Increase the number of iterations.\n",
      "  \"of iterations.\", ConvergenceWarning)\n",
      "C:\\Users\\Anish\\Anaconda3\\lib\\site-packages\\sklearn\\linear_model\\logistic.py:947: ConvergenceWarning: lbfgs failed to converge. Increase the number of iterations.\n",
      "  \"of iterations.\", ConvergenceWarning)\n",
      "C:\\Users\\Anish\\Anaconda3\\lib\\site-packages\\sklearn\\linear_model\\logistic.py:947: ConvergenceWarning: lbfgs failed to converge. Increase the number of iterations.\n",
      "  \"of iterations.\", ConvergenceWarning)\n"
     ]
    },
    {
     "name": "stdout",
     "output_type": "stream",
     "text": [
      "Test accuracy is 0.7764853274909196\n",
      "Confusion matrix [[[  904   710]\n",
      "  [  216 30085]]\n",
      "\n",
      " [[30085   216]\n",
      "  [  710   904]]]\n",
      "roc_auc:  0.7764853274909195\n",
      "              precision    recall  f1-score   support\n",
      "\n",
      "           0       0.98      0.99      0.98     30301\n",
      "           1       0.81      0.56      0.66      1614\n",
      "\n",
      "    accuracy                           0.97     31915\n",
      "   macro avg       0.89      0.78      0.82     31915\n",
      "weighted avg       0.97      0.97      0.97     31915\n",
      "\n",
      "... Processing identity_hate\n"
     ]
    },
    {
     "name": "stderr",
     "output_type": "stream",
     "text": [
      "C:\\Users\\Anish\\Anaconda3\\lib\\site-packages\\sklearn\\linear_model\\logistic.py:947: ConvergenceWarning: lbfgs failed to converge. Increase the number of iterations.\n",
      "  \"of iterations.\", ConvergenceWarning)\n",
      "C:\\Users\\Anish\\Anaconda3\\lib\\site-packages\\sklearn\\linear_model\\logistic.py:947: ConvergenceWarning: lbfgs failed to converge. Increase the number of iterations.\n",
      "  \"of iterations.\", ConvergenceWarning)\n",
      "C:\\Users\\Anish\\Anaconda3\\lib\\site-packages\\sklearn\\linear_model\\logistic.py:947: ConvergenceWarning: lbfgs failed to converge. Increase the number of iterations.\n",
      "  \"of iterations.\", ConvergenceWarning)\n",
      "C:\\Users\\Anish\\Anaconda3\\lib\\site-packages\\sklearn\\linear_model\\logistic.py:947: ConvergenceWarning: lbfgs failed to converge. Increase the number of iterations.\n",
      "  \"of iterations.\", ConvergenceWarning)\n",
      "C:\\Users\\Anish\\Anaconda3\\lib\\site-packages\\sklearn\\linear_model\\logistic.py:947: ConvergenceWarning: lbfgs failed to converge. Increase the number of iterations.\n",
      "  \"of iterations.\", ConvergenceWarning)\n",
      "C:\\Users\\Anish\\Anaconda3\\lib\\site-packages\\sklearn\\linear_model\\logistic.py:947: ConvergenceWarning: lbfgs failed to converge. Increase the number of iterations.\n",
      "  \"of iterations.\", ConvergenceWarning)\n",
      "C:\\Users\\Anish\\Anaconda3\\lib\\site-packages\\sklearn\\linear_model\\logistic.py:947: ConvergenceWarning: lbfgs failed to converge. Increase the number of iterations.\n",
      "  \"of iterations.\", ConvergenceWarning)\n",
      "C:\\Users\\Anish\\Anaconda3\\lib\\site-packages\\sklearn\\linear_model\\logistic.py:947: ConvergenceWarning: lbfgs failed to converge. Increase the number of iterations.\n",
      "  \"of iterations.\", ConvergenceWarning)\n",
      "C:\\Users\\Anish\\Anaconda3\\lib\\site-packages\\sklearn\\linear_model\\logistic.py:947: ConvergenceWarning: lbfgs failed to converge. Increase the number of iterations.\n",
      "  \"of iterations.\", ConvergenceWarning)\n",
      "C:\\Users\\Anish\\Anaconda3\\lib\\site-packages\\sklearn\\linear_model\\logistic.py:947: ConvergenceWarning: lbfgs failed to converge. Increase the number of iterations.\n",
      "  \"of iterations.\", ConvergenceWarning)\n",
      "C:\\Users\\Anish\\Anaconda3\\lib\\site-packages\\sklearn\\linear_model\\logistic.py:947: ConvergenceWarning: lbfgs failed to converge. Increase the number of iterations.\n",
      "  \"of iterations.\", ConvergenceWarning)\n",
      "C:\\Users\\Anish\\Anaconda3\\lib\\site-packages\\sklearn\\linear_model\\logistic.py:947: ConvergenceWarning: lbfgs failed to converge. Increase the number of iterations.\n",
      "  \"of iterations.\", ConvergenceWarning)\n",
      "C:\\Users\\Anish\\Anaconda3\\lib\\site-packages\\sklearn\\linear_model\\logistic.py:947: ConvergenceWarning: lbfgs failed to converge. Increase the number of iterations.\n",
      "  \"of iterations.\", ConvergenceWarning)\n",
      "C:\\Users\\Anish\\Anaconda3\\lib\\site-packages\\sklearn\\linear_model\\logistic.py:947: ConvergenceWarning: lbfgs failed to converge. Increase the number of iterations.\n",
      "  \"of iterations.\", ConvergenceWarning)\n",
      "C:\\Users\\Anish\\Anaconda3\\lib\\site-packages\\sklearn\\linear_model\\logistic.py:947: ConvergenceWarning: lbfgs failed to converge. Increase the number of iterations.\n",
      "  \"of iterations.\", ConvergenceWarning)\n",
      "C:\\Users\\Anish\\Anaconda3\\lib\\site-packages\\sklearn\\linear_model\\logistic.py:947: ConvergenceWarning: lbfgs failed to converge. Increase the number of iterations.\n",
      "  \"of iterations.\", ConvergenceWarning)\n",
      "C:\\Users\\Anish\\Anaconda3\\lib\\site-packages\\sklearn\\linear_model\\logistic.py:947: ConvergenceWarning: lbfgs failed to converge. Increase the number of iterations.\n",
      "  \"of iterations.\", ConvergenceWarning)\n",
      "C:\\Users\\Anish\\Anaconda3\\lib\\site-packages\\sklearn\\linear_model\\logistic.py:947: ConvergenceWarning: lbfgs failed to converge. Increase the number of iterations.\n",
      "  \"of iterations.\", ConvergenceWarning)\n",
      "C:\\Users\\Anish\\Anaconda3\\lib\\site-packages\\sklearn\\linear_model\\logistic.py:947: ConvergenceWarning: lbfgs failed to converge. Increase the number of iterations.\n",
      "  \"of iterations.\", ConvergenceWarning)\n",
      "C:\\Users\\Anish\\Anaconda3\\lib\\site-packages\\sklearn\\linear_model\\logistic.py:947: ConvergenceWarning: lbfgs failed to converge. Increase the number of iterations.\n",
      "  \"of iterations.\", ConvergenceWarning)\n"
     ]
    },
    {
     "name": "stdout",
     "output_type": "stream",
     "text": [
      "Test accuracy is 0.618541626194768\n",
      "Confusion matrix [[[   70   224]\n",
      "  [   32 31589]]\n",
      "\n",
      " [[31589    32]\n",
      "  [  224    70]]]\n",
      "roc_auc:  0.6185416261947682\n",
      "              precision    recall  f1-score   support\n",
      "\n",
      "           0       0.99      1.00      1.00     31621\n",
      "           1       0.69      0.24      0.35       294\n",
      "\n",
      "    accuracy                           0.99     31915\n",
      "   macro avg       0.84      0.62      0.67     31915\n",
      "weighted avg       0.99      0.99      0.99     31915\n",
      "\n"
     ]
    }
   ],
   "source": [
    "# LOGISTIC REGRESSIN - CROSS VALIDATIOM\n",
    "LOG_CV_pipeline = Pipeline([\n",
    "                ('tfidf', TfidfVectorizer(max_features=2000, min_df=5, max_df=0.7)),\n",
    "                ('clf', OneVsRestClassifier(LogisticRegressionCV(cv=5, random_state=0), n_jobs=1)),\n",
    "            ])\n",
    "for category in categories:\n",
    "    print('... Processing {}'.format(category))\n",
    "    # train the model using X_dtm & y\n",
    "    LOG_CV_pipeline.fit(X_train, train[category])\n",
    "    # compute the testing accuracy\n",
    "    prediction = LOG_CV_pipeline.predict(X_test)\n",
    "    print('Test accuracy is {}'.format(balanced_accuracy_score(test[category], prediction)))\n",
    "    print('Confusion matrix {}'.format(multilabel_confusion_matrix(test[category], prediction)))\n",
    "    print('roc_auc: ', roc_auc_score(test[category], prediction))\n",
    "    print(classification_report(test[category], prediction))"
   ]
  },
  {
   "cell_type": "code",
   "execution_count": 65,
   "metadata": {},
   "outputs": [
    {
     "name": "stdout",
     "output_type": "stream",
     "text": [
      "... Processing toxic\n",
      "Test accuracy is 0.8068140849198369\n",
      "Confusion matrix [[[ 1975  1081]\n",
      "  [  942 27917]]\n",
      "\n",
      " [[27917   942]\n",
      "  [ 1081  1975]]]\n",
      "roc_auc:  0.8068140849198369\n",
      "              precision    recall  f1-score   support\n",
      "\n",
      "           0       0.96      0.97      0.97     28859\n",
      "           1       0.68      0.65      0.66      3056\n",
      "\n",
      "    accuracy                           0.94     31915\n",
      "   macro avg       0.82      0.81      0.81     31915\n",
      "weighted avg       0.94      0.94      0.94     31915\n",
      "\n",
      "... Processing severe_toxic\n",
      "Test accuracy is 0.6357173381830258\n",
      "Confusion matrix [[[   89   232]\n",
      "  [  184 31410]]\n",
      "\n",
      " [[31410   184]\n",
      "  [  232    89]]]\n",
      "roc_auc:  0.6357173381830258\n",
      "              precision    recall  f1-score   support\n",
      "\n",
      "           0       0.99      0.99      0.99     31594\n",
      "           1       0.33      0.28      0.30       321\n",
      "\n",
      "    accuracy                           0.99     31915\n",
      "   macro avg       0.66      0.64      0.65     31915\n",
      "weighted avg       0.99      0.99      0.99     31915\n",
      "\n",
      "... Processing obscene\n",
      "Test accuracy is 0.842075618326801\n",
      "Confusion matrix [[[ 1197   518]\n",
      "  [  417 29783]]\n",
      "\n",
      " [[29783   417]\n",
      "  [  518  1197]]]\n",
      "roc_auc:  0.8420756183268009\n",
      "              precision    recall  f1-score   support\n",
      "\n",
      "           0       0.98      0.99      0.98     30200\n",
      "           1       0.74      0.70      0.72      1715\n",
      "\n",
      "    accuracy                           0.97     31915\n",
      "   macro avg       0.86      0.84      0.85     31915\n",
      "weighted avg       0.97      0.97      0.97     31915\n",
      "\n",
      "... Processing threat\n",
      "Test accuracy is 0.6137970592054949\n",
      "Confusion matrix [[[   17    57]\n",
      "  [   68 31773]]\n",
      "\n",
      " [[31773    68]\n",
      "  [   57    17]]]\n",
      "roc_auc:  0.6137970592054949\n",
      "              precision    recall  f1-score   support\n",
      "\n",
      "           0       1.00      1.00      1.00     31841\n",
      "           1       0.20      0.23      0.21        74\n",
      "\n",
      "    accuracy                           1.00     31915\n",
      "   macro avg       0.60      0.61      0.61     31915\n",
      "weighted avg       1.00      1.00      1.00     31915\n",
      "\n",
      "... Processing insult\n",
      "Test accuracy is 0.775671876149531\n",
      "Confusion matrix [[[  923   691]\n",
      "  [  622 29679]]\n",
      "\n",
      " [[29679   622]\n",
      "  [  691   923]]]\n",
      "roc_auc:  0.7756718761495311\n",
      "              precision    recall  f1-score   support\n",
      "\n",
      "           0       0.98      0.98      0.98     30301\n",
      "           1       0.60      0.57      0.58      1614\n",
      "\n",
      "    accuracy                           0.96     31915\n",
      "   macro avg       0.79      0.78      0.78     31915\n",
      "weighted avg       0.96      0.96      0.96     31915\n",
      "\n",
      "... Processing identity_hate\n",
      "Test accuracy is 0.649036139549903\n",
      "Confusion matrix [[[   89   205]\n",
      "  [  147 31474]]\n",
      "\n",
      " [[31474   147]\n",
      "  [  205    89]]]\n",
      "roc_auc:  0.649036139549903\n",
      "              precision    recall  f1-score   support\n",
      "\n",
      "           0       0.99      1.00      0.99     31621\n",
      "           1       0.38      0.30      0.34       294\n",
      "\n",
      "    accuracy                           0.99     31915\n",
      "   macro avg       0.69      0.65      0.67     31915\n",
      "weighted avg       0.99      0.99      0.99     31915\n",
      "\n"
     ]
    }
   ],
   "source": [
    "#DECISION TREE\n",
    "DT_pipeline = Pipeline([\n",
    "                ('tfidf', TfidfVectorizer(max_features=2000, min_df=5, max_df=0.7)),\n",
    "                ('clf', OneVsRestClassifier(DecisionTreeClassifier(), n_jobs=1)),\n",
    "            ])\n",
    "for category in categories:\n",
    "    print('... Processing {}'.format(category))\n",
    "    # train the model using X_dtm & y\n",
    "    DT_pipeline.fit(X_train, train[category])\n",
    "    # compute the testing accuracy\n",
    "    prediction = DT_pipeline.predict(X_test)\n",
    "    print('Test accuracy is {}'.format(balanced_accuracy_score(test[category], prediction)))\n",
    "    print('Confusion matrix {}'.format(multilabel_confusion_matrix(test[category], prediction)))\n",
    "    print('roc_auc: ', roc_auc_score(test[category], prediction))\n",
    "    print(classification_report(test[category], prediction))"
   ]
  },
  {
   "cell_type": "code",
   "execution_count": 70,
   "metadata": {},
   "outputs": [
    {
     "name": "stdout",
     "output_type": "stream",
     "text": [
      "... Processing toxic\n",
      "Test accuracy is 0.7897120788491581\n",
      "Confusion matrix [[[ 1853  1203]\n",
      "  [  777 28082]]\n",
      "\n",
      " [[28082   777]\n",
      "  [ 1203  1853]]]\n",
      "roc_auc:  0.7897120788491582\n",
      "              precision    recall  f1-score   support\n",
      "\n",
      "           0       0.96      0.97      0.97     28859\n",
      "           1       0.70      0.61      0.65      3056\n",
      "\n",
      "    accuracy                           0.94     31915\n",
      "   macro avg       0.83      0.79      0.81     31915\n",
      "weighted avg       0.93      0.94      0.94     31915\n",
      "\n",
      "... Processing severe_toxic\n",
      "Test accuracy is 0.6317566015235749\n",
      "Confusion matrix [[[   86   235]\n",
      "  [  139 31455]]\n",
      "\n",
      " [[31455   139]\n",
      "  [  235    86]]]\n",
      "roc_auc:  0.631756601523575\n",
      "              precision    recall  f1-score   support\n",
      "\n",
      "           0       0.99      1.00      0.99     31594\n",
      "           1       0.38      0.27      0.32       321\n",
      "\n",
      "    accuracy                           0.99     31915\n",
      "   macro avg       0.69      0.63      0.65     31915\n",
      "weighted avg       0.99      0.99      0.99     31915\n",
      "\n",
      "... Processing obscene\n",
      "Test accuracy is 0.8302107427644663\n",
      "Confusion matrix [[[ 1150   565]\n",
      "  [  306 29894]]\n",
      "\n",
      " [[29894   306]\n",
      "  [  565  1150]]]\n",
      "roc_auc:  0.8302107427644662\n",
      "              precision    recall  f1-score   support\n",
      "\n",
      "           0       0.98      0.99      0.99     30200\n",
      "           1       0.79      0.67      0.73      1715\n",
      "\n",
      "    accuracy                           0.97     31915\n",
      "   macro avg       0.89      0.83      0.86     31915\n",
      "weighted avg       0.97      0.97      0.97     31915\n",
      "\n",
      "... Processing threat\n",
      "Test accuracy is 0.5872568259349453\n",
      "Confusion matrix [[[   13    61]\n",
      "  [   37 31804]]\n",
      "\n",
      " [[31804    37]\n",
      "  [   61    13]]]\n",
      "roc_auc:  0.5872568259349453\n",
      "              precision    recall  f1-score   support\n",
      "\n",
      "           0       1.00      1.00      1.00     31841\n",
      "           1       0.26      0.18      0.21        74\n",
      "\n",
      "    accuracy                           1.00     31915\n",
      "   macro avg       0.63      0.59      0.60     31915\n",
      "weighted avg       1.00      1.00      1.00     31915\n",
      "\n",
      "... Processing insult\n",
      "Test accuracy is 0.7493659036121962\n",
      "Confusion matrix [[[  831   783]\n",
      "  [  489 29812]]\n",
      "\n",
      " [[29812   489]\n",
      "  [  783   831]]]\n",
      "roc_auc:  0.7493659036121963\n",
      "              precision    recall  f1-score   support\n",
      "\n",
      "           0       0.97      0.98      0.98     30301\n",
      "           1       0.63      0.51      0.57      1614\n",
      "\n",
      "    accuracy                           0.96     31915\n",
      "   macro avg       0.80      0.75      0.77     31915\n",
      "weighted avg       0.96      0.96      0.96     31915\n",
      "\n",
      "... Processing identity_hate\n",
      "Test accuracy is 0.6293553410105701\n",
      "Confusion matrix [[[   77   217]\n",
      "  [  101 31520]]\n",
      "\n",
      " [[31520   101]\n",
      "  [  217    77]]]\n",
      "roc_auc:  0.6293553410105701\n",
      "              precision    recall  f1-score   support\n",
      "\n",
      "           0       0.99      1.00      0.99     31621\n",
      "           1       0.43      0.26      0.33       294\n",
      "\n",
      "    accuracy                           0.99     31915\n",
      "   macro avg       0.71      0.63      0.66     31915\n",
      "weighted avg       0.99      0.99      0.99     31915\n",
      "\n"
     ]
    }
   ],
   "source": [
    "#DECISION TREE - HYPERPARAMETER TUNNING \n",
    "DT_pipeline = Pipeline([\n",
    "                ('tfidf', TfidfVectorizer(max_features=2000,ngram_range=(1,2), min_df=5, max_df=0.7)),\n",
    "                ('clf', OneVsRestClassifier(DecisionTreeClassifier(random_state=50,min_samples_split = 5,\n",
    "                                                                   min_samples_leaf = 2), n_jobs=1)),\n",
    "            ])\n",
    "for category in categories:\n",
    "    print('... Processing {}'.format(category))\n",
    "    # train the model using X_dtm & y\n",
    "    DT_pipeline.fit(X_train, train[category])\n",
    "    # compute the testing accuracy\n",
    "    prediction = DT_pipeline.predict(X_test)\n",
    "    print('Test accuracy is {}'.format(balanced_accuracy_score(test[category], prediction)))\n",
    "    print('Confusion matrix {}'.format(multilabel_confusion_matrix(test[category], prediction)))\n",
    "    print('roc_auc: ', roc_auc_score(test[category], prediction))\n",
    "    print(classification_report(test[category], prediction))"
   ]
  },
  {
   "cell_type": "code",
   "execution_count": null,
   "metadata": {},
   "outputs": [],
   "source": [
    "# settings that you use for count vectorizer will go here\n",
    "#tfidf_vectorizer=TfidfVectorizer(use_idf=True)\n",
    " \n",
    "# just send in all your docs here\n",
    "#tfidf_vectorizer_vectors=tfidf_vectorizer.fit_transform(train['stemmer'])\n",
    "\n",
    "# get the first vector out (for the first document)\n",
    "#first_vector_tfidfvectorizer=tfidf_vectorizer_vectors[0]\n",
    " \n",
    "# place tf-idf values in a pandas data frame\n",
    "#df = pd.DataFrame(first_vector_tfidfvectorizer.T.todense(), index=tfidf_vectorizer.get_feature_names(), columns=[\"tfidf\"])\n",
    "#df.sort_values(by=[\"tfidf\"],ascending=False)\n",
    "\n",
    "#y = train[]"
   ]
  },
  {
   "cell_type": "code",
   "execution_count": null,
   "metadata": {},
   "outputs": [],
   "source": [
    "# For single class removing accuracy. \n",
    "\n",
    "#from sklearn.svm import SVC \n",
    "#svm_model_linear = SVC(kernel = 'linear', C = 1).fit(X_train, y_train) \n",
    "#svm_predictions = svm_model_linear.predict(X_test) \n",
    "  \n",
    "# model accuracy for X_test   \n",
    "#accuracy = svm_model_linear.score(X_test, y_test) \n",
    "  \n",
    "# creating a confusion matrix \n",
    "#cm = confusion_matrix(y_test, svm_predictions) "
   ]
  }
 ],
 "metadata": {
  "kernelspec": {
   "display_name": "Python 3",
   "language": "python",
   "name": "python3"
  },
  "language_info": {
   "codemirror_mode": {
    "name": "ipython",
    "version": 3
   },
   "file_extension": ".py",
   "mimetype": "text/x-python",
   "name": "python",
   "nbconvert_exporter": "python",
   "pygments_lexer": "ipython3",
   "version": "3.7.3"
  }
 },
 "nbformat": 4,
 "nbformat_minor": 4
}
